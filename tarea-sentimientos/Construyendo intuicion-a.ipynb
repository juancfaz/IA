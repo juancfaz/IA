{
 "cells": [
  {
   "attachments": {},
   "cell_type": "markdown",
   "id": "e3fb2bce",
   "metadata": {},
   "source": [
    "# Problem 1: Building intuition"
   ]
  },
  {
   "cell_type": "code",
   "execution_count": 1,
   "id": "c02190dc",
   "metadata": {},
   "outputs": [],
   "source": [
    "import numpy as np"
   ]
  },
  {
   "cell_type": "code",
   "execution_count": 2,
   "id": "978a462e",
   "metadata": {},
   "outputs": [],
   "source": [
    "train1 = [\n",
    "    ((0, 1, 0, 0, 1, 0), -1),\n",
    "    ((1, 0, 1, 0, 0, 0), -1),\n",
    "    ((0, 1, 0, 1, 0, 0), 1),\n",
    "    ((1, 0, 0, 0, 0, 1), 1),\n",
    "]"
   ]
  },
  {
   "cell_type": "code",
   "execution_count": 3,
   "id": "21d2286b",
   "metadata": {},
   "outputs": [],
   "source": [
    "def loss(train, w, i):\n",
    "    phi = np.array(train[i][0])\n",
    "    y = np.array(train[i][1])\n",
    "    return max(0, 1 - phi.dot(y).dot(w))"
   ]
  },
  {
   "cell_type": "code",
   "execution_count": 4,
   "id": "c062e3ed",
   "metadata": {},
   "outputs": [],
   "source": [
    "def gradient_descent(train, w, i):\n",
    "    phi = np.array(train[i][0])\n",
    "    y = np.array(train[i][1])\n",
    "    return - phi.dot(y)"
   ]
  },
  {
   "cell_type": "code",
   "execution_count": 5,
   "id": "652acc69",
   "metadata": {},
   "outputs": [],
   "source": [
    "def new_weight(w, eta, gradient):\n",
    "    return w - eta * gradient"
   ]
  },
  {
   "cell_type": "code",
   "execution_count": 7,
   "id": "86afce19",
   "metadata": {},
   "outputs": [
    {
     "name": "stdout",
     "output_type": "stream",
     "text": [
      "Loss: 1.0, Weight: [ 0.  -0.1  0.   0.  -0.1  0. ]\n",
      "Loss: 1.0, Weight: [-0.1 -0.1 -0.1  0.  -0.1  0. ]\n",
      "Loss: 1.1, Weight: [-0.1  0.  -0.1  0.1 -0.1  0. ]\n",
      "Loss: 1.1, Weight: [ 0.   0.  -0.1  0.1 -0.1  0.1]\n"
     ]
    }
   ],
   "source": [
    "eta = 0.1\n",
    "w = np.zeros(6)\n",
    "for i in range(4):\n",
    "    loss1 = loss(train1, w, i)\n",
    "    gradient = gradient_descent(train1, w, i)\n",
    "    w = new_weight(w, eta, gradient)\n",
    "    print(f'Loss: {loss1}, Weight: {w}')"
   ]
  }
 ],
 "metadata": {
  "kernelspec": {
   "display_name": "Python 3",
   "language": "python",
   "name": "python3"
  },
  "language_info": {
   "codemirror_mode": {
    "name": "ipython",
    "version": 3
   },
   "file_extension": ".py",
   "mimetype": "text/x-python",
   "name": "python",
   "nbconvert_exporter": "python",
   "pygments_lexer": "ipython3",
   "version": "3.10.9"
  },
  "vscode": {
   "interpreter": {
    "hash": "aee8b7b246df8f9039afb4144a1f6fd8d2ca17a180786b69acc140d282b71a49"
   }
  }
 },
 "nbformat": 4,
 "nbformat_minor": 5
}
