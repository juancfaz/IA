{
 "cells": [
  {
   "cell_type": "markdown",
   "id": "ef254395-6da1-4ffc-825f-231b751a8aaf",
   "metadata": {},
   "source": [
    "# Modelos basados en estados\n",
    "\n",
    "## Problemas de búsqueda"
   ]
  },
  {
   "cell_type": "markdown",
   "id": "92256347-3c07-4e80-b7d2-55c18eca3d00",
   "metadata": {},
   "source": [
    "En este bloque discutiremos en general modelos de inteligencia artificial basados en estados y en particular problemas de búsqueda.\n",
    "\n",
    "Encontrar una ruta de un lugar a otro es uno de los ejemplos clásicos de problemas de búsqueda.  Tenemos de entrada un mapa, un punto de origen y un punto destino.  El objetivo es producir como salida una secuencia de acciones.\n",
    "\n",
    "Consideremos el siguiente mapa\n",
    "\n",
    "<center>\n",
    "    <img src=\"./img00.png\" />\n",
    "</center>\n",
    "\n",
    "Considerando que el punto de inicio es el edificio 3K4 en la UNISON y el punto final es La Biblioteca, una solución al problema de encontrar una ruta entre los dos puntos sería la siguiente:\n",
    "\n",
    "- Dirígete al este por Av Luis Donaldo Colosio Murrieta por 190 metros\n",
    "- Gira a la derecha hacia Calle Av. Rosales/Guaymas-Hermosillo/Hermosillo - Guaymas por 72 metros\n",
    "- Gira a la derecha con dirección a Calle Av. Rosales/Guaymas - Hermosillo/Hermosillo - Guaymas por 74 metros\n",
    "- Gira a la izquierda con dirección a Av. Dr. Alberto G. Noriega por 30 metros\n",
    "- El destino está a la derecha\n",
    "\n",
    "Al seguir estas instrucciones, llegamos al destino.\n",
    "\n",
    "<center>\n",
    "    <img src=\"./img01.png\" />\n",
    "</center>\n",
    "\n",
    "¿Cómo podemos evaluar qué tan buenas son las secuencias de acciones?\n",
    "\n",
    "- Distancia recorrida\n",
    "- Tiempo de llegada\n",
    "- Caminos más seguros\n",
    "- Recorrido más pictórico\n",
    "\n",
    "Otro contexto es en planeación de movimiento de un robot.  Esto puede ir desde el desplazamiento del robot en el espacio, hasta la activación coordinada de cada motor en el brazo robótico para abrir una puerta.\n",
    "\n",
    "Uno de los algoritmos de búsqueda más importantes que discutiremos, el $A^\\ast$, fue desarrollado para la operación de los primeros robots inteligentes.\n",
    "\n",
    "\n",
    "<center>\n",
    "    <img src=\"./img02.gif\" />\n",
    "</center>\n",
    "\n",
    "En este ejemplo de planeación en robots, ¿Cómo podemos evaluar un plan?\n",
    "\n",
    "- Mas rápido de ejecutar\n",
    "- Mas eficiente en gasto de energía\n",
    "- Mas seguro de realizar\n",
    "- Mas expresivo\n",
    "\n",
    "Podemos complicar más el ejemplo, en lugar de construir planes para un robot, podríamos construir planes para toda una flotilla de robots para eficientar la organización de los almacenes en Correos de México.\n",
    "\n",
    "<center>\n",
    "    <img src=\"./img03.jpg\" />\n",
    "</center>\n",
    "\n",
    "Problemas de búsqueda también aparecen en varios juegos como el cubo de Rubik o el Sudoku.\n",
    "\n",
    "<center>\n",
    "    <img src=\"./img04.png\" />\n",
    "</center>\n",
    "\n",
    "¿Qué forma tendrían las acciones?\n",
    "\n",
    "¿Qué forma tendrían los objetivos?"
   ]
  },
  {
   "cell_type": "markdown",
   "id": "fe342d87-7dff-42ba-a8dc-02460672ea5c",
   "metadata": {},
   "source": [
    "### Más allá de reflejos\n",
    "\n",
    "En un problema de búsqueda, de cierta forma, seguimos construyendo un predictor $f$ que toma una entrada $x$. Pero $f$ ahora regresa una *secuencia de acciones* no solo una acción.\n",
    "\n",
    "En los problemas de clasificación:\n",
    "<center>\n",
    "    <img src=\"./img05.png\" />\n",
    "</center>\n",
    "\n",
    "En los problemas de búsqueda:\n",
    "<center>\n",
    "    <img src=\"./img06.png\" />\n",
    "</center>"
   ]
  },
  {
   "cell_type": "markdown",
   "id": "a8a5077a-8003-467a-991a-095d5372659b",
   "metadata": {},
   "source": [
    "### ¿Qué discutiremos en este bloque?\n",
    "\n",
    "- Cómo modelar problemas de búsqueda\n",
    "- Búsqueda en árboles\n",
    "- Programación dinámica\n",
    "- Búsqueda de costo uniforme\n",
    "- Algoritmo A*\n",
    "- Cómo lidiar con problemas parcialmente especificados"
   ]
  },
  {
   "cell_type": "markdown",
   "id": "0a2dc997-3746-4451-bdee-5e0857c5bae7",
   "metadata": {},
   "source": [
    "## Modelación de problemas de búsqueda\n",
    "\n",
    "¿Recuerdan el acertijo del lobo, la cabra y la col?\n",
    "\n",
    "*Un día, un granjero fue al mercado y compró un lobo, una\n",
    "cabra y una col. Para volver a su casa tenía que cruzar\n",
    "un río. El granjero dispone de una barca para cruzar a\n",
    "la otra orilla, pero en la barca solo caben él y una de sus\n",
    "compras.*\n",
    "\n",
    "\n",
    "*Si el lobo se queda solo con la cabra, se la come.  Si la cabra se queda sola con la col, se la come.*\n",
    "\n",
    "*El reto del granjero es cruzar él mismo y dejar sus compras a la otra orilla del río, dejando cada compra intacta.*\n",
    "\n",
    "---\n",
    "\n",
    "<center>\n",
    "    <img src=\"./img07.png\" />\n",
    "</center>"
   ]
  },
  {
   "cell_type": "markdown",
   "id": "b637870b-5536-4cf1-bc36-c8ccdf545525",
   "metadata": {},
   "source": [
    "Definimos nuestro problema de búsqueda especificando:\n",
    "- Estado inicial: $s_0$\n",
    "- Posibles acciones en el estado $s$: $\\mathrm{Actions}(s)$\n",
    "- Costo de realizar una acción $a$ en un estado $s$: $\\mathrm{Cost}(s, a)$\n",
    "- Estado al que llegamos después de aplicar una acción $a$ en un estado $s$: $\\mathrm{Succ}(s, a)$\n",
    "- Predicado para determinar si un estado $s$ es final: $\\mathrm{IsEnd}(s)$\n",
    "\n",
    "Codificamos un estado representando con `F` al granjero, `C` a la col, `G` a la cabra, `W` al lobo y `||` al río.\n",
    "\n",
    "El estado inicial es `FCGW||`,\n",
    "\n",
    "El universo de acciones consiste de ocho, ya que en la barca caben a lo más dos entidades y una de ellas debe ser el granjero, estas representan qué entidades se mueven al otro lado del rio en la barca y en qué dirección:\n",
    "- `F>`\n",
    "- `F<`\n",
    "- `FC>`\n",
    "- `FC<`\n",
    "- `FG>`\n",
    "- `FG<`\n",
    "- `FW>`\n",
    "- `FW<`\n",
    "\n",
    "Se omiten las acciones que nos regresan a un estado previo.\n",
    "Consideramos adicionalmente que cada acción tiene un costo unitario.\n",
    "\n",
    "La propuesta es construir un árbol de búsqueda donde la raíz sea el estado inicial y las hojas los estados finales. Cada arista saliente de un nodo $s$ corresponde a una posible acción en $\\mathrm{Actions}(s)$ que pueda realizarse en el estado $s$. Las aristas son etiquetadas por una acción yb un costo, denotado $a:\\mathrm{Cost}(s,a)$.\n",
    "\n",
    "<center>\n",
    "    <img src=\"./img08.png\" />\n",
    "</center>\n",
    "\n",
    "Una diferencia fundamental del concepto de árbol de búsqueda en IA y Estructuras de Datos es que en IA no construímos el árbol en memoria, usualmente se construye en memoria una trayectoria del estado inicial a un estado final con algunas rutas del árbol posiblemente sin explorar."
   ]
  },
  {
   "cell_type": "markdown",
   "id": "1cb23768-7671-40d8-b2fc-bf8883ecd838",
   "metadata": {},
   "source": [
    "**Para la tarea:** Modela el juego de las torres de Hanói como un problema de búsqueda."
   ]
  },
  {
   "cell_type": "code",
   "execution_count": 1,
   "id": "98b62765",
   "metadata": {},
   "outputs": [],
   "source": [
    "def init(num_discos):\n",
    "    torre1 = list(range(num_discos, 0, -1))\n",
    "    \n",
    "    torre2 = []\n",
    "    torre3 = []\n",
    "    \n",
    "    return torre1, torre2, torre3\n",
    "\n",
    "def Actions(state):\n",
    "    torre1, torre2, torre3 = state\n",
    "    \n",
    "    acciones = []\n",
    "    if torre1:\n",
    "        if not torre2 or torre1[-1] < torre2[-1]:\n",
    "            acciones.append(('torre 1', 'torre 2'))\n",
    "        if not torre3 or torre1[-1] < torre3[-1]:\n",
    "            acciones.append(('torre 1', 'torre 3'))\n",
    "    if torre2:\n",
    "        if not torre1 or torre2[-1] < torre1[-1]:\n",
    "            acciones.append(('torre 2', 'torre 1'))\n",
    "        if not torre3 or torre2[-1] < torre3[-1]:\n",
    "            acciones.append(('torre 2', 'torre 3'))\n",
    "    if torre3:\n",
    "        if not torre1 or torre3[-1] < torre1[-1]:\n",
    "            acciones.append(('torre 3', 'torre 1'))\n",
    "        if not torre2 or torre3[-1] < torre2[-1]:\n",
    "            acciones.append(('torre 3', 'torre 2'))\n",
    "    \n",
    "    return acciones\n",
    "\n",
    "def Cost(state, actions):\n",
    "    return 1\n",
    "\n",
    "def Succesor(state, action):\n",
    "    torre1, torre2, torre3 = state\n",
    "    torre_origen, torre_destino = action\n",
    "    \n",
    "    torre_origen_copy = torre1[:] if torre_origen == 'torre 1' else torre2[:] if torre_origen == 'torre 2' else torre3[:]\n",
    "    torre_destino_copy = torre1[:] if torre_destino == 'torre 1' else torre2[:] if torre_destino == 'torre 2' else torre3[:]\n",
    "    \n",
    "    if not torre_origen_copy:\n",
    "        return state\n",
    "    \n",
    "    disco = torre_origen_copy.pop()\n",
    "    torre_destino_copy.append(disco)\n",
    "    \n",
    "    if torre_origen == 'torre 1':\n",
    "        torre1 = torre_origen_copy\n",
    "    elif torre_origen == 'torre 2':\n",
    "        torre2 = torre_origen_copy\n",
    "    else:\n",
    "        torre3 = torre_origen_copy\n",
    "        \n",
    "    if torre_destino == 'torre 1':\n",
    "        torre1 = torre_destino_copy\n",
    "    elif torre_destino == 'torre 2':\n",
    "        torre2 = torre_destino_copy\n",
    "    else:\n",
    "        torre3 = torre_destino_copy\n",
    "        \n",
    "    return (list(torre1), list(torre2), list(torre3))\n",
    "\n",
    "def isEnd(state):\n",
    "    return True if state == ([], [], [3, 2, 1]) else False"
   ]
  },
  {
   "cell_type": "code",
   "execution_count": 2,
   "id": "79401788",
   "metadata": {},
   "outputs": [],
   "source": [
    "state = init(3)"
   ]
  },
  {
   "cell_type": "code",
   "execution_count": 3,
   "id": "b5355cec",
   "metadata": {},
   "outputs": [
    {
     "data": {
      "text/plain": [
       "([3, 2, 1], [], [])"
      ]
     },
     "execution_count": 3,
     "metadata": {},
     "output_type": "execute_result"
    }
   ],
   "source": [
    "state"
   ]
  },
  {
   "cell_type": "code",
   "execution_count": 7,
   "id": "da2402fa",
   "metadata": {},
   "outputs": [],
   "source": [
    "state = Succesor(state, Actions(state)[1])\n",
    "state = Succesor(state, Actions(state)[0])\n",
    "state = Succesor(state, Actions(state)[2])\n",
    "state = Succesor(state, Actions(state)[0])\n",
    "state = Succesor(state, Actions(state)[0])\n",
    "state = Succesor(state, Actions(state)[2])\n",
    "state = Succesor(state, Actions(state)[1])"
   ]
  },
  {
   "cell_type": "code",
   "execution_count": 8,
   "id": "209d482f",
   "metadata": {},
   "outputs": [
    {
     "data": {
      "text/plain": [
       "([], [], [3, 2, 1])"
      ]
     },
     "execution_count": 8,
     "metadata": {},
     "output_type": "execute_result"
    }
   ],
   "source": [
    "state"
   ]
  },
  {
   "cell_type": "code",
   "execution_count": 9,
   "id": "11f145c7",
   "metadata": {},
   "outputs": [
    {
     "data": {
      "text/plain": [
       "True"
      ]
     },
     "execution_count": 9,
     "metadata": {},
     "output_type": "execute_result"
    }
   ],
   "source": [
    "isEnd(state)"
   ]
  },
  {
   "cell_type": "markdown",
   "id": "4238c18a",
   "metadata": {},
   "source": [
    "**Para la tarea:** Escribe un programa de Python que genere un tablero de Sudoku resuelto de forma aleatoria de tamaño $9\\times9$.  No busques algoritmos para lograr esto, en su lugar, plantea una idea clave para resolver el problema y asegúrate que tu implementación sea lo más clara y entendible que puedas."
   ]
  },
  {
   "cell_type": "code",
   "execution_count": 61,
   "id": "29c8f959",
   "metadata": {},
   "outputs": [
    {
     "name": "stdout",
     "output_type": "stream",
     "text": [
      "[[7 1 5 6 9 8 4 2 3]\n",
      " [8 9 2 4 7 3 5 6 1]\n",
      " [4 6 3 5 2 1 8 9 7]\n",
      " [6 4 7 9 5 2 1 3 8]\n",
      " [9 3 8 7 1 6 2 4 5]\n",
      " [5 2 1 3 8 4 9 7 6]\n",
      " [1 5 9 2 3 7 6 8 4]\n",
      " [3 8 6 1 4 9 7 5 2]\n",
      " [2 7 4 8 6 5 3 1 9]]\n"
     ]
    }
   ],
   "source": [
    "import random, numpy as np\n",
    "\n",
    "import copy\n",
    "\n",
    "def shuffle_board(board):\n",
    "    shuffled_board = copy.deepcopy(board)\n",
    "    solver(shuffled_board)\n",
    "    while True:\n",
    "        for i in range(len(board)):\n",
    "            for j in range(len(board[0])):\n",
    "                if random.random() > 0.5:\n",
    "                    shuffled_board[i][j] = 0\n",
    "        solver(shuffled_board)\n",
    "        if has_unique_solution(shuffled_board):\n",
    "            return shuffled_board\n",
    "        \n",
    "def has_unique_solution(board):\n",
    "    solved_board = copy.deepcopy(board)\n",
    "    if solver(solved_board):\n",
    "        for i in range(len(board)):\n",
    "            for j in range(len(board[0])):\n",
    "                if board[i][j] == 0:\n",
    "                    temp_board = copy.deepcopy(board)\n",
    "                    temp_board[i][j] = 1\n",
    "                    if solver(temp_board):\n",
    "                        return False\n",
    "        return True\n",
    "    else:\n",
    "        return False\n",
    "\n",
    "\n",
    "def initial_board(n, m):\n",
    "    board = [[0 for j in range(m)] for i in range(n)]\n",
    "    return board\n",
    "\n",
    "def is_valid_move(board, row, col, n):\n",
    "    \n",
    "    # Comprobar fila y columna\n",
    "    if any(board[col][i] == n for i in range(len(board))):\n",
    "        return False\n",
    "    if any(board[i][row] == n for i in range(len(board[0]))):\n",
    "        return False\n",
    "\n",
    "    # Comprobar subcuadrícula\n",
    "    subrow_start = (row // int(len(board[0])**0.5)) * int(len(board[0])**0.5)\n",
    "    subcol_start = (col // int(len(board)**0.5)) * int(len(board)**0.5)\n",
    "    \n",
    "    if any(board[subcol_start + i][subrow_start + j] == n\n",
    "           for i in range(int(len(board)**0.5)) for j in range(int(len(board[0])**0.5))):\n",
    "        return False\n",
    "    \n",
    "    return True\n",
    "\n",
    "def solved(board):\n",
    "    for col in range(len(board)):\n",
    "        for row in range(len(board[0])):\n",
    "            if board[col][row] == 0:\n",
    "                for n in random.sample(range(1, len(board) + 1), len(board)):\n",
    "                    if is_valid_move(board, row, col, n):\n",
    "                        board[col][row] = n\n",
    "                        if solved(board):\n",
    "                            return True\n",
    "                        board[col][row] = 0\n",
    "                return False\n",
    "    return True\n",
    "\n",
    "while True:\n",
    "    board = initial_board(9, 9)\n",
    "    shuffle_board(board)\n",
    "    if solved(board):\n",
    "        print(np.matrix(board))\n",
    "        break"
   ]
  },
  {
   "cell_type": "code",
   "execution_count": 55,
   "id": "ad91e873",
   "metadata": {},
   "outputs": [
    {
     "data": {
      "text/plain": [
       "True"
      ]
     },
     "execution_count": 55,
     "metadata": {},
     "output_type": "execute_result"
    }
   ],
   "source": [
    "solved = solved(board)\n",
    "solved"
   ]
  },
  {
   "cell_type": "markdown",
   "id": "a47b855c-cbef-47df-a6a2-6199b751df31",
   "metadata": {},
   "source": [
    "**Demostración en clase:**\n",
    "\n",
    "Consideremos una calle con cuadras numeradas del $1$ a $n$.\n",
    "\n",
    "Caminar de la cuadra $s$ a la $s+1$ nos toma $1$ minuto.\n",
    "\n",
    "Tomar un camión mágico de $s$ a $2s$ nos toma $2$ minutos.\n",
    "\n",
    "Comenzamos en la cuadra $1$, queremos llegar a la cuadra $n$.\n",
    "\n",
    "¿Cómo podemos hacer esta travesía en el menor tiempo posible?"
   ]
  },
  {
   "cell_type": "code",
   "execution_count": 11,
   "id": "f1cb4f9e-fa0d-4b60-b89d-ed9c5ffc4e35",
   "metadata": {
    "tags": []
   },
   "outputs": [],
   "source": [
    "class TransportationProblem(object):\n",
    "    def __init__(self, n):\n",
    "        self.n = n\n",
    "    \n",
    "    def initialState(self):\n",
    "        return 1\n",
    "    \n",
    "    def isEnd(self, state):\n",
    "        return state == self.n\n",
    "    \n",
    "    def actions(self, state):\n",
    "        moves = []\n",
    "        if state + 1 <= self.n:\n",
    "            moves.append('walk')\n",
    "        if state * 2 <= self.n:\n",
    "            moves.append('tram')\n",
    "        return moves\n",
    "    \n",
    "    def cost(self, state, action):\n",
    "        if action == 'walk':\n",
    "            return 1\n",
    "        if action == 'tram':\n",
    "            return 2\n",
    "    \n",
    "    def successor(self, state, action):\n",
    "        if action == 'walk':\n",
    "            return state + 1\n",
    "        if action == 'tram':\n",
    "            return state * 2"
   ]
  },
  {
   "cell_type": "code",
   "execution_count": 12,
   "id": "617db180-0c29-43c3-9d63-8616cfc1cc0f",
   "metadata": {
    "tags": []
   },
   "outputs": [],
   "source": [
    "def edges(problem, state):\n",
    "    return [\n",
    "        (action,\n",
    "         problem.successor(state, action),\n",
    "         problem.cost(state, action))\n",
    "        for action in problem.actions(state)\n",
    "    ]"
   ]
  },
  {
   "cell_type": "code",
   "execution_count": 13,
   "id": "686a8e64-b89f-4a93-8188-26b33d47d373",
   "metadata": {
    "tags": []
   },
   "outputs": [],
   "source": [
    "problem = TransportationProblem(n = 4)"
   ]
  },
  {
   "cell_type": "code",
   "execution_count": 14,
   "id": "7b528768",
   "metadata": {},
   "outputs": [
    {
     "name": "stdout",
     "output_type": "stream",
     "text": [
      "[('walk', 2, 1), ('tram', 2, 2)]\n"
     ]
    }
   ],
   "source": [
    "print(edges(problem, 1))"
   ]
  },
  {
   "cell_type": "code",
   "execution_count": 15,
   "id": "ae845b74",
   "metadata": {},
   "outputs": [
    {
     "name": "stdout",
     "output_type": "stream",
     "text": [
      "[('walk', 3, 1), ('tram', 4, 2)]\n"
     ]
    }
   ],
   "source": [
    "print(edges(problem, 2))"
   ]
  },
  {
   "cell_type": "code",
   "execution_count": 16,
   "id": "e828abeb-fea1-42f0-92f5-272776ddccf4",
   "metadata": {
    "tags": []
   },
   "outputs": [
    {
     "name": "stdout",
     "output_type": "stream",
     "text": [
      "[('walk', 4, 1)]\n"
     ]
    }
   ],
   "source": [
    "print(edges(problem, 3))"
   ]
  },
  {
   "cell_type": "markdown",
   "id": "60ae613d-9097-4e54-9036-c2f3c93a7e10",
   "metadata": {},
   "source": [
    "## Búsqueda en árboles"
   ]
  },
  {
   "cell_type": "markdown",
   "id": "b5ff4833-d02b-43b5-9b60-48bd224f77ca",
   "metadata": {},
   "source": [
    "Supongamos que se nos presenta un problema de búsqueda.\n",
    "\n",
    "¿Cómo construimos un algoritmo para encontrar una trayectoria de mínimo costo entre el estado inicial y alguno de los estados finales?\n",
    "\n",
    "Consideremos todas las posibles trayectorias. A esto le llamamos **búsqueda con backtracking**.\n",
    "\n",
    "<center>\n",
    "    <img src=\"./img09.gif\" />\n",
    "</center>"
   ]
  },
  {
   "cell_type": "markdown",
   "id": "911509be-103d-48a4-996a-0d96b4949710",
   "metadata": {},
   "source": [
    "```python\n",
    "def backtrackingSearch(state, path):\n",
    "    if IsEnd(state):\n",
    "        updateMinCost(path)\n",
    "    for action in Actions(state):\n",
    "        next_state = Successor(state, action)\n",
    "        next_cost = Cost(state, action)\n",
    "        next_path = updatePath(path, next_state, next_cost)\n",
    "        backtrackingSearch(next_state, next_path)\n",
    "    return minCostPath\n",
    "```"
   ]
  },
  {
   "cell_type": "markdown",
   "id": "027301e2-ff78-4388-b37f-4f9797680da2",
   "metadata": {},
   "source": [
    "La búsqueda con backtracking realiza un recorrido del árbol de búsqueda, considerando la trayectoria desde el estado inicial al estado actual.  Una vez que se alcanza un estado final, se considera la trayectoria resultante como candidata a ser la trayectoria de menor costo.\n",
    "\n",
    "Supongamos que el árbol de búsqueda tiene una profundidad máxima $D$ y que hay $b$ acciones en cada estado."
   ]
  },
  {
   "cell_type": "markdown",
   "id": "fe4343b5-b524-412f-828e-157fbdf49382",
   "metadata": {},
   "source": [
    "*¿Cuál es la complejidad de memoria del algoritmo?*"
   ]
  },
  {
   "cell_type": "markdown",
   "id": "327470e3-3f71-4077-a6a8-2a5f39c1848e",
   "metadata": {
    "tags": []
   },
   "source": [
    "$$O(D)$$\n",
    "\n",
    "Ya que la búsqueda solo requiere almacenar la trayectoria candidata, la cuál en el peor de los casos tiene longitud $D$."
   ]
  },
  {
   "cell_type": "markdown",
   "id": "ff567a18-ef42-4af9-a0e5-5fe0bdd113ce",
   "metadata": {},
   "source": [
    "*¿Cuál es la complejidad de tiempo del algoritmo?*"
   ]
  },
  {
   "cell_type": "markdown",
   "id": "57b2ee5b-bfd8-43db-b217-2c3f7915b4c4",
   "metadata": {},
   "source": [
    "Por cada nodo del árbol se realiza una cantidad constante de operaciones, por lo que el tiempo de ejecución es proporcional a la cantidad de nodos del árbol.\n",
    "\n",
    "$$1+b+b^2+b^3+\\dots+b^D = \\frac{b^{D+1}-1}{b-1} = O(b^D)$$"
   ]
  },
  {
   "cell_type": "markdown",
   "id": "c596c1af-cbe5-4882-8f96-48813e8bbda5",
   "metadata": {},
   "source": [
    "**Ejercicio en clase:** Considera una modificación de la búsqueda con backtracking que incorpora una estrategia voraz (*greedy*), en lugar de considerar todas las posibles acciones, solo elige aquella que produce el costo mínimo en el estado actual. ¿Encontraríamos la trayectoria de costo mínimo? Si tu respuesta es afirmativa, demuestra por qué. Si tu respuesta es negativa, presenta un contraejemplo."
   ]
  },
  {
   "cell_type": "markdown",
   "id": "f0c49251-c10c-4f01-b95a-1ac559822735",
   "metadata": {},
   "source": [
    "**Ejercicio en clase:** Considera la siguiente implementación del algoritmo de búsqueda con backtracking para el problema del camión mágico.\n",
    "\n",
    "Encuentra la mejor solución al problema"
   ]
  },
  {
   "cell_type": "code",
   "execution_count": 17,
   "id": "13dda337-a66e-48f4-843b-f0aa4b2d1ae1",
   "metadata": {
    "tags": []
   },
   "outputs": [],
   "source": [
    "def backtrackingSearch(problem):\n",
    "    bestCost = float('+inf')\n",
    "    bestPath = None\n",
    "    def findBest(state, path, cost):\n",
    "        nonlocal bestCost\n",
    "        nonlocal bestPath\n",
    "        if problem.isEnd(state):\n",
    "            if cost < bestCost:\n",
    "                bestCost = cost\n",
    "                bestPath = path\n",
    "            return\n",
    "        for action, next_state, next_cost in edges(problem, state):\n",
    "            findBest(next_state,\n",
    "                     path + [(action, next_state, next_cost)],\n",
    "                     cost + next_cost)\n",
    "    findBest(state = problem.initialState(),\n",
    "             path = [],\n",
    "             cost = 0)\n",
    "    return bestCost, bestPath"
   ]
  },
  {
   "cell_type": "code",
   "execution_count": 18,
   "id": "ba4a43bd-b35f-403e-b0f1-8e08ac4a3a69",
   "metadata": {
    "tags": []
   },
   "outputs": [
    {
     "data": {
      "text/plain": [
       "(3, [('walk', 2, 1), ('walk', 3, 1), ('walk', 4, 1)])"
      ]
     },
     "execution_count": 18,
     "metadata": {},
     "output_type": "execute_result"
    }
   ],
   "source": [
    "backtrackingSearch(problem)"
   ]
  },
  {
   "cell_type": "markdown",
   "id": "7d3b3167-8b05-402a-95cd-0a1063f7255f",
   "metadata": {},
   "source": [
    "**Para la tarea:** Escribe una implementación de `backtrackingSearch` que sea funcionalmente equivalente a la implementación de arriba sin utilizar variables fuera del ámbito local de una función."
   ]
  },
  {
   "cell_type": "code",
   "execution_count": 19,
   "id": "907f7fa9",
   "metadata": {},
   "outputs": [],
   "source": [
    "def backtrackingSearchNonLocal(problem):\n",
    "    def findBest(state, path, cost, bestCost, bestPath):\n",
    "        if problem.isEnd(state):\n",
    "            if cost < bestCost:\n",
    "                bestCost = cost\n",
    "                bestPath = path\n",
    "            return bestCost, bestPath\n",
    "        for action, next_state, next_cost in edges(problem, state):\n",
    "            new_path = path + [(action, next_state, next_cost)]\n",
    "            new_cost = cost + next_cost\n",
    "            bestCost, bestPath = findBest(next_state, new_path, new_cost, bestCost, bestPath)\n",
    "        return bestCost, bestPath\n",
    "    initial_state = problem.initialState()\n",
    "    bestCost, bestPath = findBest(initial_state, [], 0, float('+inf'), None)\n",
    "    return bestCost, bestPath\n"
   ]
  },
  {
   "cell_type": "code",
   "execution_count": 20,
   "id": "c9243d93",
   "metadata": {},
   "outputs": [
    {
     "data": {
      "text/plain": [
       "(3, [('walk', 2, 1), ('walk', 3, 1), ('walk', 4, 1)])"
      ]
     },
     "execution_count": 20,
     "metadata": {},
     "output_type": "execute_result"
    }
   ],
   "source": [
    "backtrackingSearchNonLocal(problem)"
   ]
  },
  {
   "cell_type": "markdown",
   "id": "ec1bcfdf-d115-4794-9dae-f4e367293fa9",
   "metadata": {},
   "source": [
    "---\n",
    "La búsqueda con backtracking encuentra la trayectoria de mínimo costo, siempre y cuando el árbol de búsqueda sea finito, sin embargo, hay situaciones donde podemos ser más rápidos. Para lograr esto, necesitamos incorporar algunas suposiciones adicionales.\n",
    "\n",
    "Consideremos que todas las acciones tienen un costo de cero en todos los estados.  En otras palabras, lo que nos importa es encontrar una secuencia válida de acciones que nos lleven del estado inicial a algún estado final.  Cualquera de estas secuencias tiene un costo mínimo de cero.\n",
    "\n",
    "<center>\n",
    "    <img src=\"./img10.svg\" />\n",
    "</center>\n",
    "\n",
    "En este caso, podemos simplemente regresar la primer trayectoria que alcance un estado final, sin preocuparnos por los costos. El algoritmo resultante es la **búsqueda a lo profundo** llamada en inglés depth-first search (DFS).\n",
    "\n",
    "**Ejercicio en clase:** ¿Cuál es la complejidad de memoria de DFS? ¿Cuál es la complejidad en tiempo de DFS? Si no nos importan los costos, ¿Es mejor DFS que búsqueda con backtracking?\n",
    "\n",
    "**Ejercicio en clase:** Implementa DFS para resolver el problema del camión mágico."
   ]
  },
  {
   "cell_type": "markdown",
   "id": "e53031e3-1d61-4952-bb0c-38b290477488",
   "metadata": {},
   "source": [
    "---\n",
    "\n",
    "La suposición que incorporamos para obtener búsqueda a lo profundo es muy fuerte, que los costos no importen.  Ahora consideramos la **búsqueda a lo ancho** llamda en inglés breadth-first search (BFS) que parte de la idea de encontrar una trayectoria válida pero buscando trayectorias de menor a mayor tamaño.  Esto es como si consideráramos $\\mathrm{Cost}(s, a) = 1$ para todo estado $s$ y acción $a$.\n",
    "\n",
    "<center>\n",
    "    <img src=\"./img11.svg\" />\n",
    "</center>\n",
    "\n",
    "La búsqueda a lo ancho utiliza una cola de estados pendientes de explorar.  Saca un estado de la cola y luego encola sus sucesores.  Esta busqueda considera todas las trayectorias que consisten de una arista, luego todas las de dos, luego todas las de tres, etc., hasta que encuentra una trayectoria que llega a un estado final.\n",
    "\n",
    "**Ejercicio en clase:** Si una solución más corta tiene $d$ acciones, ¿Cuál es la complejidad en tiempo de BFS? ¿Cuál es la complejidad en espacio de BFS? ¿Es mejor BFS que DFS para árboles de búsqueda finitos?\n",
    "\n",
    "**Ejercicio en clase:** Implementa BFS para resolver el problema del camión mágico."
   ]
  },
  {
   "cell_type": "markdown",
   "id": "431823c4-9b4a-4c08-9f53-5954f30b2157",
   "metadata": {},
   "source": [
    "---\n",
    "\n",
    "¿Podemos mejorar las propuestas anteriores?\n",
    "\n",
    "Podemos modificar el DFS para que se detenga al llegar a cierta profundidad. De tal manera que al invocat el DFS modificado con profundidad máxima $d$ nos dice si existe una trayectoria de longitud a lo más $d$, lo cuál resulta en $O(d)$ en espacio y $O(b^d)$ en tiempo.\n",
    "\n",
    "Luego podemos invocar este método con profundidades $1$, $2$, $3$, $\\dots$ hasta que encontremos una solución o nos demos por vencidos.\n",
    "\n",
    "Este algoritmo es llamado **búsqueda en profundidad iterativa**, en inglés depth-first search with iterative deepening (DFS-ID).\n",
    "\n",
    "Si una solución más corta tiene $d$ acciones:\n",
    "\n",
    "*¿Cuál es la complejidad en tiempo de DFS-ID?*\n",
    "\n",
    "Primero analizamos cuál es la complejidad en tiempo para una búsqueda a lo profundo con profundidad máxima $d$. Ya que en el peor de los casos se exploran todos los nodos de un árbol con profundidad $d$ y factor de ramificación $b$, esta complejidad es $O(b^d)$.\n",
    "\n",
    "$$O(b^0) + O(b^1) + O(b^2) + \\dots + O(b^d) = O(b^d)$$\n",
    "\n",
    "*¿Cuál es la complejidad en espacio de DFS-ID?*\n",
    "\n",
    "Solo almacenamos la trayectoria candidata actual, la cuál consiste de a lo más $d$ acciones.\n",
    "\n",
    "$$O(d)$$\n",
    "\n",
    "**Ejercicio en clase:** Implementa DFS-ID para resolver el problema del camión mágico."
   ]
  },
  {
   "cell_type": "markdown",
   "id": "85669719-cca8-4f7a-bec3-e38e8a5372e0",
   "metadata": {},
   "source": [
    "---\n",
    "\n",
    "En resumen, no podemos evitar la complejidad en tiempo exponencial, pero podemos obtener complejidad en espacio lineal. El espacio a veces es mas importante que el tiempo en problemas de búsqueda ya que la memoria no puede \"crecer\" mágicamente, sin embargo, si nos podemos dar el lujo de correr el programa por más tiempo, o incluso paralelizarlo para que cada procesador realiza la búsqueda en un subárbol diferente.\n",
    "\n",
    "| **Algoritmo** | **Costo de acción** | **Espacio** | **Tiempo** |\n",
    "|---------------|---------------------|-------------|------------|\n",
    "| Backtracking  | cualquiera          | $O(D)$      | $O(b^D)$   |\n",
    "| DFS           | cero                | $O(D)$      | $O(b^D)$   |\n",
    "| BFS           | uno                 | $O(b^d)$    | $O(b^d)$   |\n",
    "| DFS-ID        | uno                 | $O(d)$      | $O(b^d)$   |"
   ]
  },
  {
   "cell_type": "markdown",
   "id": "1b885b82-9892-4892-89d0-e602805f8c17",
   "metadata": {},
   "source": [
    "##  Programación dinámica"
   ]
  },
  {
   "cell_type": "markdown",
   "id": "5bcfd04a-7f89-4f33-b45e-d7e3bd566888",
   "metadata": {},
   "source": [
    "Pensemos en el árbol de búsqueda para el problema del camión mágico suponiendo que $n$ es muy grande.\n",
    "\n",
    "Iniciamos en la cuadra $1$, si caminamos nos vamos a la cuadra $1+1=2$ y si tomamos el camión mágico nos vamos a la cuadra $1\\times2=2$. En ambos casos quedamos en la cuadra $2$.\n",
    "\n",
    "<center>\n",
    "    <img src=\"./img12.svg\" />\n",
    "</center>\n",
    "\n",
    "A partir de este estado, la secuencia de acciones con el menor costo para llegar a la cuadra $n$ es la misma. El costo de la secuencia total será distinto, ya que caminar es menos costoso que tomar el camión. Pero eso no es lo importante ahorita.\n",
    "\n",
    "Enfaticemos los siguiente: Si la primera acción es `walk`, la mejor secuencia para el resto de las acciones será igual a la que obtendríamos si la primera acción es `tram`.\n",
    "\n",
    "<center>\n",
    "    <img src=\"./img13.svg\" />\n",
    "</center>\n",
    "\n",
    "En los algoritmos de búsqueda que hemos discutido, los subárboles correspondientes a tomar la acción `walk` y `tram` se exploran de manera independiente. Sin embargo, realizan escencialmente el mismo cálculo.\n",
    "\n",
    "Si podemos eliminar esta redundancia de cálculos, podremos reducir los cálculos mas o menos a la mitad... a menos que...\n",
    "\n",
    "<center>\n",
    "    <img src=\"./img14.gif\" style=\"width: 100%\" />\n",
    "</center>\n",
    "\n",
    "¡Podemos reducir la complejidad de tiempo! La redundancia aparece en otras partes del árbol. \n",
    "\n",
    "<center>\n",
    "    <img src=\"./img15.svg\" />\n",
    "</center>\n",
    "\n",
    "Vamos a conceptualizar esta observación de la siguiente manera. El objetivo del problema es encontrar la secuencia de acciones de menor costo que nos llevan de la cuadra $1$ a la cuadra $n$, es decir, del estado inicial a un estado final.\n",
    "\n",
    "Sea $s$ un estado cualquiera, el menor costo al que podemos aspirar estando en $s$ lo denotamos $\\mathrm{FutureCost}$, definido como\n",
    "$$\\mathrm{FutureCost}(s) = \\begin{cases}\n",
    "0 & \\text{si } \\mathrm{IsEnd}(s) \\\\\n",
    "\\min_{a\\in\\mathrm{Actions}(s)}\\{ \\mathrm{Cost}(s, a) + \\mathrm{FutureCost}(\\mathrm{Succ}(s, a))\\} & \\text{en otro caso}\n",
    "\\end{cases}$$\n",
    "\n",
    "**Discutir en clase:** Considera el problema del camión mágico para $n=8$, ¿Cuántos nodos tiene el árbol de búsqueda?\n",
    "\n",
    "Consideremos el problema del camión mágico para $n=8$ y supongamos que se nos provee un vector $C$ de $8$ elementos donde $C_i = \\mathrm{FutureCost}(i)$.\n",
    "\n",
    "Entonces podemos resolver el problema de búsqueda de la siguiente manera:"
   ]
  },
  {
   "cell_type": "code",
   "execution_count": 21,
   "id": "e8f5a7b0-797f-4cc3-afa3-2f58672a65b4",
   "metadata": {
    "tags": []
   },
   "outputs": [],
   "source": [
    "def dynamicProgramming(problem, C):\n",
    "    state = problem.initialState()\n",
    "    bestCost = C[state]\n",
    "    bestPath = []\n",
    "    while not problem.isEnd(state):\n",
    "        for action, next_state, next_cost in edges(problem, state):\n",
    "            if C[state] == next_cost + C[next_state]:\n",
    "                bestPath.append((action, next_state, next_cost))\n",
    "                state = next_state\n",
    "                break\n",
    "    return bestCost, bestPath"
   ]
  },
  {
   "cell_type": "code",
   "execution_count": 22,
   "id": "93eb23df-2170-432c-a69f-7cb60629c633",
   "metadata": {
    "tags": []
   },
   "outputs": [
    {
     "data": {
      "text/plain": [
       "(5, [('walk', 2, 1), ('walk', 3, 1), ('walk', 4, 1), ('tram', 8, 2)])"
      ]
     },
     "execution_count": 22,
     "metadata": {},
     "output_type": "execute_result"
    }
   ],
   "source": [
    "problem = TransportationProblem(n = 8)\n",
    "\n",
    "dynamicProgramming(problem,\n",
    "                   {1: 5, 2: 4, 3: 3, 4: 2, 5: 3, 6: 2, 7: 1, 8: 0})"
   ]
  },
  {
   "cell_type": "code",
   "execution_count": 23,
   "id": "f72cec79-2ffd-4f4b-b92d-97c28824413f",
   "metadata": {
    "tags": []
   },
   "outputs": [],
   "source": [
    "def futureCosts(problem):\n",
    "    C = {}\n",
    "    def futureCost(state):\n",
    "        if state in C:\n",
    "            return C[state]\n",
    "        if problem.isEnd(state):\n",
    "            C[state] = 0\n",
    "        else:\n",
    "            C[state] = min(next_cost + futureCost(next_state)\n",
    "                           for action, next_state, next_cost\n",
    "                           in edges(problem, state))\n",
    "        return C[state]\n",
    "    futureCost(problem.initialState())\n",
    "    return C"
   ]
  },
  {
   "cell_type": "code",
   "execution_count": 24,
   "id": "ac3bbeec-9e7b-4af6-b8b7-dc19cc9ec4f8",
   "metadata": {
    "tags": []
   },
   "outputs": [
    {
     "data": {
      "text/plain": [
       "{8: 0, 7: 1, 6: 2, 5: 3, 4: 2, 3: 3, 2: 4, 1: 5}"
      ]
     },
     "execution_count": 24,
     "metadata": {},
     "output_type": "execute_result"
    }
   ],
   "source": [
    "futureCosts(problem)"
   ]
  },
  {
   "cell_type": "markdown",
   "id": "1e18f98b-d1ff-46ed-b9b8-8700ffdcb253",
   "metadata": {},
   "source": [
    "¿Cómo se compara la búsqueda con backtracking y la programación dinámica?"
   ]
  },
  {
   "cell_type": "code",
   "execution_count": 25,
   "id": "b02b5621-2bbc-423b-b21a-f6ad6f5a453c",
   "metadata": {
    "tags": []
   },
   "outputs": [],
   "source": [
    "problem = TransportationProblem(n = 100)"
   ]
  },
  {
   "cell_type": "code",
   "execution_count": 26,
   "id": "16fe7e3c-f2d7-4f8f-9f94-2e9008aba83b",
   "metadata": {
    "tags": []
   },
   "outputs": [
    {
     "name": "stdout",
     "output_type": "stream",
     "text": [
      "(13, [('walk', 2, 1), ('walk', 3, 1), ('tram', 6, 2), ('tram', 12, 2), ('tram', 24, 2), ('walk', 25, 1), ('tram', 50, 2), ('tram', 100, 2)])\n",
      "\n",
      "326 ms ± 0 ns per loop (mean ± std. dev. of 1 run, 1 loop each)\n"
     ]
    }
   ],
   "source": [
    "%%timeit -r 1 -n 1\n",
    "print(backtrackingSearch(problem))\n",
    "print()"
   ]
  },
  {
   "cell_type": "code",
   "execution_count": 27,
   "id": "a00fd8bb-7af1-474f-9956-6b4f45f0df07",
   "metadata": {
    "tags": []
   },
   "outputs": [
    {
     "name": "stdout",
     "output_type": "stream",
     "text": [
      "(13, [('walk', 2, 1), ('walk', 3, 1), ('tram', 6, 2), ('tram', 12, 2), ('tram', 24, 2), ('walk', 25, 1), ('tram', 50, 2), ('tram', 100, 2)])\n",
      "\n",
      "797 µs ± 0 ns per loop (mean ± std. dev. of 1 run, 1 loop each)\n"
     ]
    }
   ],
   "source": [
    "%%timeit -r 1 -n 1\n",
    "print(dynamicProgramming(problem, futureCosts(problem)))\n",
    "print()"
   ]
  },
  {
   "cell_type": "markdown",
   "id": "6f67786c-4f86-4aea-a89e-57f89f880731",
   "metadata": {},
   "source": [
    "**Para la tarea:** Observa que tanto la implementación de `futureCosts` como de `dynamicProgramming` iteran sobre las aristas del estado actual. Programa una mejor implementación combinando las ideas de ambas funciones."
   ]
  },
  {
   "cell_type": "code",
   "execution_count": 35,
   "id": "387ea0f7",
   "metadata": {},
   "outputs": [],
   "source": [
    "def dynamicProgrammingWithFutureCosts(problem):\n",
    "    C = {}\n",
    "    bestPath = []\n",
    "    \n",
    "    def futureCost(state):\n",
    "        if state in C:\n",
    "            return C[state]\n",
    "        if problem.isEnd(state):\n",
    "            C[state] = 0\n",
    "        else:\n",
    "            C[state] = min(next_cost + futureCost(next_state)\n",
    "                           for action, next_state, next_cost\n",
    "                           in edges(problem, state))\n",
    "        print(C.values())\n",
    "        return C[state]\n",
    "    \n",
    "    state = problem.initialState()\n",
    "    bestCost = futureCost(state)\n",
    "    while not problem.isEnd(state):\n",
    "        for action, next_state, next_cost in edges(problem, state):\n",
    "            if C[state] == next_cost + C[next_state]:\n",
    "                bestPath.append((action, next_state, next_cost))\n",
    "                state = next_state\n",
    "                break\n",
    "        else:\n",
    "            raise Exception(\"No outgoing edges with minimum cost found!\")\n",
    "    return bestCost, bestPath"
   ]
  },
  {
   "cell_type": "code",
   "execution_count": 37,
   "id": "ac32426b",
   "metadata": {},
   "outputs": [
    {
     "name": "stdout",
     "output_type": "stream",
     "text": [
      "dict_values([0])\n",
      "dict_values([0, 1])\n",
      "dict_values([0, 1, 2])\n",
      "dict_values([0, 1, 2, 3])\n",
      "dict_values([0, 1, 2, 3, 4])\n",
      "dict_values([0, 1, 2, 3, 4, 5])\n",
      "dict_values([0, 1, 2, 3, 4, 5, 6])\n",
      "dict_values([0, 1, 2, 3, 4, 5, 6, 7])\n",
      "dict_values([0, 1, 2, 3, 4, 5, 6, 7, 8])\n",
      "dict_values([0, 1, 2, 3, 4, 5, 6, 7, 8, 9])\n",
      "dict_values([0, 1, 2, 3, 4, 5, 6, 7, 8, 9, 10])\n",
      "dict_values([0, 1, 2, 3, 4, 5, 6, 7, 8, 9, 10, 11])\n",
      "dict_values([0, 1, 2, 3, 4, 5, 6, 7, 8, 9, 10, 11, 12])\n",
      "dict_values([0, 1, 2, 3, 4, 5, 6, 7, 8, 9, 10, 11, 12, 13])\n",
      "dict_values([0, 1, 2, 3, 4, 5, 6, 7, 8, 9, 10, 11, 12, 13, 14])\n",
      "dict_values([0, 1, 2, 3, 4, 5, 6, 7, 8, 9, 10, 11, 12, 13, 14, 15])\n",
      "dict_values([0, 1, 2, 3, 4, 5, 6, 7, 8, 9, 10, 11, 12, 13, 14, 15, 16])\n",
      "dict_values([0, 1, 2, 3, 4, 5, 6, 7, 8, 9, 10, 11, 12, 13, 14, 15, 16, 17])\n",
      "dict_values([0, 1, 2, 3, 4, 5, 6, 7, 8, 9, 10, 11, 12, 13, 14, 15, 16, 17, 18])\n",
      "dict_values([0, 1, 2, 3, 4, 5, 6, 7, 8, 9, 10, 11, 12, 13, 14, 15, 16, 17, 18, 19])\n",
      "dict_values([0, 1, 2, 3, 4, 5, 6, 7, 8, 9, 10, 11, 12, 13, 14, 15, 16, 17, 18, 19, 20])\n",
      "dict_values([0, 1, 2, 3, 4, 5, 6, 7, 8, 9, 10, 11, 12, 13, 14, 15, 16, 17, 18, 19, 20, 21])\n",
      "dict_values([0, 1, 2, 3, 4, 5, 6, 7, 8, 9, 10, 11, 12, 13, 14, 15, 16, 17, 18, 19, 20, 21, 22])\n",
      "dict_values([0, 1, 2, 3, 4, 5, 6, 7, 8, 9, 10, 11, 12, 13, 14, 15, 16, 17, 18, 19, 20, 21, 22, 23])\n",
      "dict_values([0, 1, 2, 3, 4, 5, 6, 7, 8, 9, 10, 11, 12, 13, 14, 15, 16, 17, 18, 19, 20, 21, 22, 23, 24])\n",
      "dict_values([0, 1, 2, 3, 4, 5, 6, 7, 8, 9, 10, 11, 12, 13, 14, 15, 16, 17, 18, 19, 20, 21, 22, 23, 24, 25])\n",
      "dict_values([0, 1, 2, 3, 4, 5, 6, 7, 8, 9, 10, 11, 12, 13, 14, 15, 16, 17, 18, 19, 20, 21, 22, 23, 24, 25, 26])\n",
      "dict_values([0, 1, 2, 3, 4, 5, 6, 7, 8, 9, 10, 11, 12, 13, 14, 15, 16, 17, 18, 19, 20, 21, 22, 23, 24, 25, 26, 27])\n",
      "dict_values([0, 1, 2, 3, 4, 5, 6, 7, 8, 9, 10, 11, 12, 13, 14, 15, 16, 17, 18, 19, 20, 21, 22, 23, 24, 25, 26, 27, 28])\n",
      "dict_values([0, 1, 2, 3, 4, 5, 6, 7, 8, 9, 10, 11, 12, 13, 14, 15, 16, 17, 18, 19, 20, 21, 22, 23, 24, 25, 26, 27, 28, 29])\n",
      "dict_values([0, 1, 2, 3, 4, 5, 6, 7, 8, 9, 10, 11, 12, 13, 14, 15, 16, 17, 18, 19, 20, 21, 22, 23, 24, 25, 26, 27, 28, 29, 30])\n",
      "dict_values([0, 1, 2, 3, 4, 5, 6, 7, 8, 9, 10, 11, 12, 13, 14, 15, 16, 17, 18, 19, 20, 21, 22, 23, 24, 25, 26, 27, 28, 29, 30, 31])\n",
      "dict_values([0, 1, 2, 3, 4, 5, 6, 7, 8, 9, 10, 11, 12, 13, 14, 15, 16, 17, 18, 19, 20, 21, 22, 23, 24, 25, 26, 27, 28, 29, 30, 31, 32])\n",
      "dict_values([0, 1, 2, 3, 4, 5, 6, 7, 8, 9, 10, 11, 12, 13, 14, 15, 16, 17, 18, 19, 20, 21, 22, 23, 24, 25, 26, 27, 28, 29, 30, 31, 32, 33])\n",
      "dict_values([0, 1, 2, 3, 4, 5, 6, 7, 8, 9, 10, 11, 12, 13, 14, 15, 16, 17, 18, 19, 20, 21, 22, 23, 24, 25, 26, 27, 28, 29, 30, 31, 32, 33, 34])\n",
      "dict_values([0, 1, 2, 3, 4, 5, 6, 7, 8, 9, 10, 11, 12, 13, 14, 15, 16, 17, 18, 19, 20, 21, 22, 23, 24, 25, 26, 27, 28, 29, 30, 31, 32, 33, 34, 35])\n",
      "dict_values([0, 1, 2, 3, 4, 5, 6, 7, 8, 9, 10, 11, 12, 13, 14, 15, 16, 17, 18, 19, 20, 21, 22, 23, 24, 25, 26, 27, 28, 29, 30, 31, 32, 33, 34, 35, 36])\n",
      "dict_values([0, 1, 2, 3, 4, 5, 6, 7, 8, 9, 10, 11, 12, 13, 14, 15, 16, 17, 18, 19, 20, 21, 22, 23, 24, 25, 26, 27, 28, 29, 30, 31, 32, 33, 34, 35, 36, 37])\n",
      "dict_values([0, 1, 2, 3, 4, 5, 6, 7, 8, 9, 10, 11, 12, 13, 14, 15, 16, 17, 18, 19, 20, 21, 22, 23, 24, 25, 26, 27, 28, 29, 30, 31, 32, 33, 34, 35, 36, 37, 38])\n",
      "dict_values([0, 1, 2, 3, 4, 5, 6, 7, 8, 9, 10, 11, 12, 13, 14, 15, 16, 17, 18, 19, 20, 21, 22, 23, 24, 25, 26, 27, 28, 29, 30, 31, 32, 33, 34, 35, 36, 37, 38, 39])\n",
      "dict_values([0, 1, 2, 3, 4, 5, 6, 7, 8, 9, 10, 11, 12, 13, 14, 15, 16, 17, 18, 19, 20, 21, 22, 23, 24, 25, 26, 27, 28, 29, 30, 31, 32, 33, 34, 35, 36, 37, 38, 39, 40])\n",
      "dict_values([0, 1, 2, 3, 4, 5, 6, 7, 8, 9, 10, 11, 12, 13, 14, 15, 16, 17, 18, 19, 20, 21, 22, 23, 24, 25, 26, 27, 28, 29, 30, 31, 32, 33, 34, 35, 36, 37, 38, 39, 40, 41])\n",
      "dict_values([0, 1, 2, 3, 4, 5, 6, 7, 8, 9, 10, 11, 12, 13, 14, 15, 16, 17, 18, 19, 20, 21, 22, 23, 24, 25, 26, 27, 28, 29, 30, 31, 32, 33, 34, 35, 36, 37, 38, 39, 40, 41, 42])\n",
      "dict_values([0, 1, 2, 3, 4, 5, 6, 7, 8, 9, 10, 11, 12, 13, 14, 15, 16, 17, 18, 19, 20, 21, 22, 23, 24, 25, 26, 27, 28, 29, 30, 31, 32, 33, 34, 35, 36, 37, 38, 39, 40, 41, 42, 43])\n",
      "dict_values([0, 1, 2, 3, 4, 5, 6, 7, 8, 9, 10, 11, 12, 13, 14, 15, 16, 17, 18, 19, 20, 21, 22, 23, 24, 25, 26, 27, 28, 29, 30, 31, 32, 33, 34, 35, 36, 37, 38, 39, 40, 41, 42, 43, 44])\n",
      "dict_values([0, 1, 2, 3, 4, 5, 6, 7, 8, 9, 10, 11, 12, 13, 14, 15, 16, 17, 18, 19, 20, 21, 22, 23, 24, 25, 26, 27, 28, 29, 30, 31, 32, 33, 34, 35, 36, 37, 38, 39, 40, 41, 42, 43, 44, 45])\n",
      "dict_values([0, 1, 2, 3, 4, 5, 6, 7, 8, 9, 10, 11, 12, 13, 14, 15, 16, 17, 18, 19, 20, 21, 22, 23, 24, 25, 26, 27, 28, 29, 30, 31, 32, 33, 34, 35, 36, 37, 38, 39, 40, 41, 42, 43, 44, 45, 46])\n",
      "dict_values([0, 1, 2, 3, 4, 5, 6, 7, 8, 9, 10, 11, 12, 13, 14, 15, 16, 17, 18, 19, 20, 21, 22, 23, 24, 25, 26, 27, 28, 29, 30, 31, 32, 33, 34, 35, 36, 37, 38, 39, 40, 41, 42, 43, 44, 45, 46, 47])\n",
      "dict_values([0, 1, 2, 3, 4, 5, 6, 7, 8, 9, 10, 11, 12, 13, 14, 15, 16, 17, 18, 19, 20, 21, 22, 23, 24, 25, 26, 27, 28, 29, 30, 31, 32, 33, 34, 35, 36, 37, 38, 39, 40, 41, 42, 43, 44, 45, 46, 47, 48])\n",
      "dict_values([0, 1, 2, 3, 4, 5, 6, 7, 8, 9, 10, 11, 12, 13, 14, 15, 16, 17, 18, 19, 20, 21, 22, 23, 24, 25, 26, 27, 28, 29, 30, 31, 32, 33, 34, 35, 36, 37, 38, 39, 40, 41, 42, 43, 44, 45, 46, 47, 48, 49])\n",
      "dict_values([0, 1, 2, 3, 4, 5, 6, 7, 8, 9, 10, 11, 12, 13, 14, 15, 16, 17, 18, 19, 20, 21, 22, 23, 24, 25, 26, 27, 28, 29, 30, 31, 32, 33, 34, 35, 36, 37, 38, 39, 40, 41, 42, 43, 44, 45, 46, 47, 48, 49, 2])\n",
      "dict_values([0, 1, 2, 3, 4, 5, 6, 7, 8, 9, 10, 11, 12, 13, 14, 15, 16, 17, 18, 19, 20, 21, 22, 23, 24, 25, 26, 27, 28, 29, 30, 31, 32, 33, 34, 35, 36, 37, 38, 39, 40, 41, 42, 43, 44, 45, 46, 47, 48, 49, 2, 3])\n",
      "dict_values([0, 1, 2, 3, 4, 5, 6, 7, 8, 9, 10, 11, 12, 13, 14, 15, 16, 17, 18, 19, 20, 21, 22, 23, 24, 25, 26, 27, 28, 29, 30, 31, 32, 33, 34, 35, 36, 37, 38, 39, 40, 41, 42, 43, 44, 45, 46, 47, 48, 49, 2, 3, 4])\n",
      "dict_values([0, 1, 2, 3, 4, 5, 6, 7, 8, 9, 10, 11, 12, 13, 14, 15, 16, 17, 18, 19, 20, 21, 22, 23, 24, 25, 26, 27, 28, 29, 30, 31, 32, 33, 34, 35, 36, 37, 38, 39, 40, 41, 42, 43, 44, 45, 46, 47, 48, 49, 2, 3, 4, 5])\n",
      "dict_values([0, 1, 2, 3, 4, 5, 6, 7, 8, 9, 10, 11, 12, 13, 14, 15, 16, 17, 18, 19, 20, 21, 22, 23, 24, 25, 26, 27, 28, 29, 30, 31, 32, 33, 34, 35, 36, 37, 38, 39, 40, 41, 42, 43, 44, 45, 46, 47, 48, 49, 2, 3, 4, 5, 6])\n",
      "dict_values([0, 1, 2, 3, 4, 5, 6, 7, 8, 9, 10, 11, 12, 13, 14, 15, 16, 17, 18, 19, 20, 21, 22, 23, 24, 25, 26, 27, 28, 29, 30, 31, 32, 33, 34, 35, 36, 37, 38, 39, 40, 41, 42, 43, 44, 45, 46, 47, 48, 49, 2, 3, 4, 5, 6, 7])\n",
      "dict_values([0, 1, 2, 3, 4, 5, 6, 7, 8, 9, 10, 11, 12, 13, 14, 15, 16, 17, 18, 19, 20, 21, 22, 23, 24, 25, 26, 27, 28, 29, 30, 31, 32, 33, 34, 35, 36, 37, 38, 39, 40, 41, 42, 43, 44, 45, 46, 47, 48, 49, 2, 3, 4, 5, 6, 7, 8])\n",
      "dict_values([0, 1, 2, 3, 4, 5, 6, 7, 8, 9, 10, 11, 12, 13, 14, 15, 16, 17, 18, 19, 20, 21, 22, 23, 24, 25, 26, 27, 28, 29, 30, 31, 32, 33, 34, 35, 36, 37, 38, 39, 40, 41, 42, 43, 44, 45, 46, 47, 48, 49, 2, 3, 4, 5, 6, 7, 8, 9])\n",
      "dict_values([0, 1, 2, 3, 4, 5, 6, 7, 8, 9, 10, 11, 12, 13, 14, 15, 16, 17, 18, 19, 20, 21, 22, 23, 24, 25, 26, 27, 28, 29, 30, 31, 32, 33, 34, 35, 36, 37, 38, 39, 40, 41, 42, 43, 44, 45, 46, 47, 48, 49, 2, 3, 4, 5, 6, 7, 8, 9, 10])\n",
      "dict_values([0, 1, 2, 3, 4, 5, 6, 7, 8, 9, 10, 11, 12, 13, 14, 15, 16, 17, 18, 19, 20, 21, 22, 23, 24, 25, 26, 27, 28, 29, 30, 31, 32, 33, 34, 35, 36, 37, 38, 39, 40, 41, 42, 43, 44, 45, 46, 47, 48, 49, 2, 3, 4, 5, 6, 7, 8, 9, 10, 11])\n",
      "dict_values([0, 1, 2, 3, 4, 5, 6, 7, 8, 9, 10, 11, 12, 13, 14, 15, 16, 17, 18, 19, 20, 21, 22, 23, 24, 25, 26, 27, 28, 29, 30, 31, 32, 33, 34, 35, 36, 37, 38, 39, 40, 41, 42, 43, 44, 45, 46, 47, 48, 49, 2, 3, 4, 5, 6, 7, 8, 9, 10, 11, 12])\n",
      "dict_values([0, 1, 2, 3, 4, 5, 6, 7, 8, 9, 10, 11, 12, 13, 14, 15, 16, 17, 18, 19, 20, 21, 22, 23, 24, 25, 26, 27, 28, 29, 30, 31, 32, 33, 34, 35, 36, 37, 38, 39, 40, 41, 42, 43, 44, 45, 46, 47, 48, 49, 2, 3, 4, 5, 6, 7, 8, 9, 10, 11, 12, 13])\n",
      "dict_values([0, 1, 2, 3, 4, 5, 6, 7, 8, 9, 10, 11, 12, 13, 14, 15, 16, 17, 18, 19, 20, 21, 22, 23, 24, 25, 26, 27, 28, 29, 30, 31, 32, 33, 34, 35, 36, 37, 38, 39, 40, 41, 42, 43, 44, 45, 46, 47, 48, 49, 2, 3, 4, 5, 6, 7, 8, 9, 10, 11, 12, 13, 14])\n",
      "dict_values([0, 1, 2, 3, 4, 5, 6, 7, 8, 9, 10, 11, 12, 13, 14, 15, 16, 17, 18, 19, 20, 21, 22, 23, 24, 25, 26, 27, 28, 29, 30, 31, 32, 33, 34, 35, 36, 37, 38, 39, 40, 41, 42, 43, 44, 45, 46, 47, 48, 49, 2, 3, 4, 5, 6, 7, 8, 9, 10, 11, 12, 13, 14, 15])\n",
      "dict_values([0, 1, 2, 3, 4, 5, 6, 7, 8, 9, 10, 11, 12, 13, 14, 15, 16, 17, 18, 19, 20, 21, 22, 23, 24, 25, 26, 27, 28, 29, 30, 31, 32, 33, 34, 35, 36, 37, 38, 39, 40, 41, 42, 43, 44, 45, 46, 47, 48, 49, 2, 3, 4, 5, 6, 7, 8, 9, 10, 11, 12, 13, 14, 15, 16])\n",
      "dict_values([0, 1, 2, 3, 4, 5, 6, 7, 8, 9, 10, 11, 12, 13, 14, 15, 16, 17, 18, 19, 20, 21, 22, 23, 24, 25, 26, 27, 28, 29, 30, 31, 32, 33, 34, 35, 36, 37, 38, 39, 40, 41, 42, 43, 44, 45, 46, 47, 48, 49, 2, 3, 4, 5, 6, 7, 8, 9, 10, 11, 12, 13, 14, 15, 16, 17])\n",
      "dict_values([0, 1, 2, 3, 4, 5, 6, 7, 8, 9, 10, 11, 12, 13, 14, 15, 16, 17, 18, 19, 20, 21, 22, 23, 24, 25, 26, 27, 28, 29, 30, 31, 32, 33, 34, 35, 36, 37, 38, 39, 40, 41, 42, 43, 44, 45, 46, 47, 48, 49, 2, 3, 4, 5, 6, 7, 8, 9, 10, 11, 12, 13, 14, 15, 16, 17, 18])\n",
      "dict_values([0, 1, 2, 3, 4, 5, 6, 7, 8, 9, 10, 11, 12, 13, 14, 15, 16, 17, 18, 19, 20, 21, 22, 23, 24, 25, 26, 27, 28, 29, 30, 31, 32, 33, 34, 35, 36, 37, 38, 39, 40, 41, 42, 43, 44, 45, 46, 47, 48, 49, 2, 3, 4, 5, 6, 7, 8, 9, 10, 11, 12, 13, 14, 15, 16, 17, 18, 19])\n",
      "dict_values([0, 1, 2, 3, 4, 5, 6, 7, 8, 9, 10, 11, 12, 13, 14, 15, 16, 17, 18, 19, 20, 21, 22, 23, 24, 25, 26, 27, 28, 29, 30, 31, 32, 33, 34, 35, 36, 37, 38, 39, 40, 41, 42, 43, 44, 45, 46, 47, 48, 49, 2, 3, 4, 5, 6, 7, 8, 9, 10, 11, 12, 13, 14, 15, 16, 17, 18, 19, 20])\n",
      "dict_values([0, 1, 2, 3, 4, 5, 6, 7, 8, 9, 10, 11, 12, 13, 14, 15, 16, 17, 18, 19, 20, 21, 22, 23, 24, 25, 26, 27, 28, 29, 30, 31, 32, 33, 34, 35, 36, 37, 38, 39, 40, 41, 42, 43, 44, 45, 46, 47, 48, 49, 2, 3, 4, 5, 6, 7, 8, 9, 10, 11, 12, 13, 14, 15, 16, 17, 18, 19, 20, 21])\n",
      "dict_values([0, 1, 2, 3, 4, 5, 6, 7, 8, 9, 10, 11, 12, 13, 14, 15, 16, 17, 18, 19, 20, 21, 22, 23, 24, 25, 26, 27, 28, 29, 30, 31, 32, 33, 34, 35, 36, 37, 38, 39, 40, 41, 42, 43, 44, 45, 46, 47, 48, 49, 2, 3, 4, 5, 6, 7, 8, 9, 10, 11, 12, 13, 14, 15, 16, 17, 18, 19, 20, 21, 22])\n",
      "dict_values([0, 1, 2, 3, 4, 5, 6, 7, 8, 9, 10, 11, 12, 13, 14, 15, 16, 17, 18, 19, 20, 21, 22, 23, 24, 25, 26, 27, 28, 29, 30, 31, 32, 33, 34, 35, 36, 37, 38, 39, 40, 41, 42, 43, 44, 45, 46, 47, 48, 49, 2, 3, 4, 5, 6, 7, 8, 9, 10, 11, 12, 13, 14, 15, 16, 17, 18, 19, 20, 21, 22, 23])\n",
      "dict_values([0, 1, 2, 3, 4, 5, 6, 7, 8, 9, 10, 11, 12, 13, 14, 15, 16, 17, 18, 19, 20, 21, 22, 23, 24, 25, 26, 27, 28, 29, 30, 31, 32, 33, 34, 35, 36, 37, 38, 39, 40, 41, 42, 43, 44, 45, 46, 47, 48, 49, 2, 3, 4, 5, 6, 7, 8, 9, 10, 11, 12, 13, 14, 15, 16, 17, 18, 19, 20, 21, 22, 23, 24])\n",
      "dict_values([0, 1, 2, 3, 4, 5, 6, 7, 8, 9, 10, 11, 12, 13, 14, 15, 16, 17, 18, 19, 20, 21, 22, 23, 24, 25, 26, 27, 28, 29, 30, 31, 32, 33, 34, 35, 36, 37, 38, 39, 40, 41, 42, 43, 44, 45, 46, 47, 48, 49, 2, 3, 4, 5, 6, 7, 8, 9, 10, 11, 12, 13, 14, 15, 16, 17, 18, 19, 20, 21, 22, 23, 24, 25])\n",
      "dict_values([0, 1, 2, 3, 4, 5, 6, 7, 8, 9, 10, 11, 12, 13, 14, 15, 16, 17, 18, 19, 20, 21, 22, 23, 24, 25, 26, 27, 28, 29, 30, 31, 32, 33, 34, 35, 36, 37, 38, 39, 40, 41, 42, 43, 44, 45, 46, 47, 48, 49, 2, 3, 4, 5, 6, 7, 8, 9, 10, 11, 12, 13, 14, 15, 16, 17, 18, 19, 20, 21, 22, 23, 24, 25, 26])\n",
      "dict_values([0, 1, 2, 3, 4, 5, 6, 7, 8, 9, 10, 11, 12, 13, 14, 15, 16, 17, 18, 19, 20, 21, 22, 23, 24, 25, 26, 27, 28, 29, 30, 31, 32, 33, 34, 35, 36, 37, 38, 39, 40, 41, 42, 43, 44, 45, 46, 47, 48, 49, 2, 3, 4, 5, 6, 7, 8, 9, 10, 11, 12, 13, 14, 15, 16, 17, 18, 19, 20, 21, 22, 23, 24, 25, 26, 4])\n",
      "dict_values([0, 1, 2, 3, 4, 5, 6, 7, 8, 9, 10, 11, 12, 13, 14, 15, 16, 17, 18, 19, 20, 21, 22, 23, 24, 25, 26, 27, 28, 29, 30, 31, 32, 33, 34, 35, 36, 37, 38, 39, 40, 41, 42, 43, 44, 45, 46, 47, 48, 49, 2, 3, 4, 5, 6, 7, 8, 9, 10, 11, 12, 13, 14, 15, 16, 17, 18, 19, 20, 21, 22, 23, 24, 25, 26, 4, 5])\n",
      "dict_values([0, 1, 2, 3, 4, 5, 6, 7, 8, 9, 10, 11, 12, 13, 14, 15, 16, 17, 18, 19, 20, 21, 22, 23, 24, 25, 26, 27, 28, 29, 30, 31, 32, 33, 34, 35, 36, 37, 38, 39, 40, 41, 42, 43, 44, 45, 46, 47, 48, 49, 2, 3, 4, 5, 6, 7, 8, 9, 10, 11, 12, 13, 14, 15, 16, 17, 18, 19, 20, 21, 22, 23, 24, 25, 26, 4, 5, 6])\n",
      "dict_values([0, 1, 2, 3, 4, 5, 6, 7, 8, 9, 10, 11, 12, 13, 14, 15, 16, 17, 18, 19, 20, 21, 22, 23, 24, 25, 26, 27, 28, 29, 30, 31, 32, 33, 34, 35, 36, 37, 38, 39, 40, 41, 42, 43, 44, 45, 46, 47, 48, 49, 2, 3, 4, 5, 6, 7, 8, 9, 10, 11, 12, 13, 14, 15, 16, 17, 18, 19, 20, 21, 22, 23, 24, 25, 26, 4, 5, 6, 7])\n",
      "dict_values([0, 1, 2, 3, 4, 5, 6, 7, 8, 9, 10, 11, 12, 13, 14, 15, 16, 17, 18, 19, 20, 21, 22, 23, 24, 25, 26, 27, 28, 29, 30, 31, 32, 33, 34, 35, 36, 37, 38, 39, 40, 41, 42, 43, 44, 45, 46, 47, 48, 49, 2, 3, 4, 5, 6, 7, 8, 9, 10, 11, 12, 13, 14, 15, 16, 17, 18, 19, 20, 21, 22, 23, 24, 25, 26, 4, 5, 6, 7, 8])\n",
      "dict_values([0, 1, 2, 3, 4, 5, 6, 7, 8, 9, 10, 11, 12, 13, 14, 15, 16, 17, 18, 19, 20, 21, 22, 23, 24, 25, 26, 27, 28, 29, 30, 31, 32, 33, 34, 35, 36, 37, 38, 39, 40, 41, 42, 43, 44, 45, 46, 47, 48, 49, 2, 3, 4, 5, 6, 7, 8, 9, 10, 11, 12, 13, 14, 15, 16, 17, 18, 19, 20, 21, 22, 23, 24, 25, 26, 4, 5, 6, 7, 8, 9])\n",
      "dict_values([0, 1, 2, 3, 4, 5, 6, 7, 8, 9, 10, 11, 12, 13, 14, 15, 16, 17, 18, 19, 20, 21, 22, 23, 24, 25, 26, 27, 28, 29, 30, 31, 32, 33, 34, 35, 36, 37, 38, 39, 40, 41, 42, 43, 44, 45, 46, 47, 48, 49, 2, 3, 4, 5, 6, 7, 8, 9, 10, 11, 12, 13, 14, 15, 16, 17, 18, 19, 20, 21, 22, 23, 24, 25, 26, 4, 5, 6, 7, 8, 9, 10])\n",
      "dict_values([0, 1, 2, 3, 4, 5, 6, 7, 8, 9, 10, 11, 12, 13, 14, 15, 16, 17, 18, 19, 20, 21, 22, 23, 24, 25, 26, 27, 28, 29, 30, 31, 32, 33, 34, 35, 36, 37, 38, 39, 40, 41, 42, 43, 44, 45, 46, 47, 48, 49, 2, 3, 4, 5, 6, 7, 8, 9, 10, 11, 12, 13, 14, 15, 16, 17, 18, 19, 20, 21, 22, 23, 24, 25, 26, 4, 5, 6, 7, 8, 9, 10, 11])\n",
      "dict_values([0, 1, 2, 3, 4, 5, 6, 7, 8, 9, 10, 11, 12, 13, 14, 15, 16, 17, 18, 19, 20, 21, 22, 23, 24, 25, 26, 27, 28, 29, 30, 31, 32, 33, 34, 35, 36, 37, 38, 39, 40, 41, 42, 43, 44, 45, 46, 47, 48, 49, 2, 3, 4, 5, 6, 7, 8, 9, 10, 11, 12, 13, 14, 15, 16, 17, 18, 19, 20, 21, 22, 23, 24, 25, 26, 4, 5, 6, 7, 8, 9, 10, 11, 12])\n",
      "dict_values([0, 1, 2, 3, 4, 5, 6, 7, 8, 9, 10, 11, 12, 13, 14, 15, 16, 17, 18, 19, 20, 21, 22, 23, 24, 25, 26, 27, 28, 29, 30, 31, 32, 33, 34, 35, 36, 37, 38, 39, 40, 41, 42, 43, 44, 45, 46, 47, 48, 49, 2, 3, 4, 5, 6, 7, 8, 9, 10, 11, 12, 13, 14, 15, 16, 17, 18, 19, 20, 21, 22, 23, 24, 25, 26, 4, 5, 6, 7, 8, 9, 10, 11, 12, 13])\n",
      "dict_values([0, 1, 2, 3, 4, 5, 6, 7, 8, 9, 10, 11, 12, 13, 14, 15, 16, 17, 18, 19, 20, 21, 22, 23, 24, 25, 26, 27, 28, 29, 30, 31, 32, 33, 34, 35, 36, 37, 38, 39, 40, 41, 42, 43, 44, 45, 46, 47, 48, 49, 2, 3, 4, 5, 6, 7, 8, 9, 10, 11, 12, 13, 14, 15, 16, 17, 18, 19, 20, 21, 22, 23, 24, 25, 26, 4, 5, 6, 7, 8, 9, 10, 11, 12, 13, 14])\n",
      "dict_values([0, 1, 2, 3, 4, 5, 6, 7, 8, 9, 10, 11, 12, 13, 14, 15, 16, 17, 18, 19, 20, 21, 22, 23, 24, 25, 26, 27, 28, 29, 30, 31, 32, 33, 34, 35, 36, 37, 38, 39, 40, 41, 42, 43, 44, 45, 46, 47, 48, 49, 2, 3, 4, 5, 6, 7, 8, 9, 10, 11, 12, 13, 14, 15, 16, 17, 18, 19, 20, 21, 22, 23, 24, 25, 26, 4, 5, 6, 7, 8, 9, 10, 11, 12, 13, 14, 15])\n",
      "dict_values([0, 1, 2, 3, 4, 5, 6, 7, 8, 9, 10, 11, 12, 13, 14, 15, 16, 17, 18, 19, 20, 21, 22, 23, 24, 25, 26, 27, 28, 29, 30, 31, 32, 33, 34, 35, 36, 37, 38, 39, 40, 41, 42, 43, 44, 45, 46, 47, 48, 49, 2, 3, 4, 5, 6, 7, 8, 9, 10, 11, 12, 13, 14, 15, 16, 17, 18, 19, 20, 21, 22, 23, 24, 25, 26, 4, 5, 6, 7, 8, 9, 10, 11, 12, 13, 14, 15, 16])\n",
      "dict_values([0, 1, 2, 3, 4, 5, 6, 7, 8, 9, 10, 11, 12, 13, 14, 15, 16, 17, 18, 19, 20, 21, 22, 23, 24, 25, 26, 27, 28, 29, 30, 31, 32, 33, 34, 35, 36, 37, 38, 39, 40, 41, 42, 43, 44, 45, 46, 47, 48, 49, 2, 3, 4, 5, 6, 7, 8, 9, 10, 11, 12, 13, 14, 15, 16, 17, 18, 19, 20, 21, 22, 23, 24, 25, 26, 4, 5, 6, 7, 8, 9, 10, 11, 12, 13, 14, 15, 16, 7])\n",
      "dict_values([0, 1, 2, 3, 4, 5, 6, 7, 8, 9, 10, 11, 12, 13, 14, 15, 16, 17, 18, 19, 20, 21, 22, 23, 24, 25, 26, 27, 28, 29, 30, 31, 32, 33, 34, 35, 36, 37, 38, 39, 40, 41, 42, 43, 44, 45, 46, 47, 48, 49, 2, 3, 4, 5, 6, 7, 8, 9, 10, 11, 12, 13, 14, 15, 16, 17, 18, 19, 20, 21, 22, 23, 24, 25, 26, 4, 5, 6, 7, 8, 9, 10, 11, 12, 13, 14, 15, 16, 7, 8])\n",
      "dict_values([0, 1, 2, 3, 4, 5, 6, 7, 8, 9, 10, 11, 12, 13, 14, 15, 16, 17, 18, 19, 20, 21, 22, 23, 24, 25, 26, 27, 28, 29, 30, 31, 32, 33, 34, 35, 36, 37, 38, 39, 40, 41, 42, 43, 44, 45, 46, 47, 48, 49, 2, 3, 4, 5, 6, 7, 8, 9, 10, 11, 12, 13, 14, 15, 16, 17, 18, 19, 20, 21, 22, 23, 24, 25, 26, 4, 5, 6, 7, 8, 9, 10, 11, 12, 13, 14, 15, 16, 7, 8, 9])\n",
      "dict_values([0, 1, 2, 3, 4, 5, 6, 7, 8, 9, 10, 11, 12, 13, 14, 15, 16, 17, 18, 19, 20, 21, 22, 23, 24, 25, 26, 27, 28, 29, 30, 31, 32, 33, 34, 35, 36, 37, 38, 39, 40, 41, 42, 43, 44, 45, 46, 47, 48, 49, 2, 3, 4, 5, 6, 7, 8, 9, 10, 11, 12, 13, 14, 15, 16, 17, 18, 19, 20, 21, 22, 23, 24, 25, 26, 4, 5, 6, 7, 8, 9, 10, 11, 12, 13, 14, 15, 16, 7, 8, 9, 10])\n",
      "dict_values([0, 1, 2, 3, 4, 5, 6, 7, 8, 9, 10, 11, 12, 13, 14, 15, 16, 17, 18, 19, 20, 21, 22, 23, 24, 25, 26, 27, 28, 29, 30, 31, 32, 33, 34, 35, 36, 37, 38, 39, 40, 41, 42, 43, 44, 45, 46, 47, 48, 49, 2, 3, 4, 5, 6, 7, 8, 9, 10, 11, 12, 13, 14, 15, 16, 17, 18, 19, 20, 21, 22, 23, 24, 25, 26, 4, 5, 6, 7, 8, 9, 10, 11, 12, 13, 14, 15, 16, 7, 8, 9, 10, 11])\n",
      "dict_values([0, 1, 2, 3, 4, 5, 6, 7, 8, 9, 10, 11, 12, 13, 14, 15, 16, 17, 18, 19, 20, 21, 22, 23, 24, 25, 26, 27, 28, 29, 30, 31, 32, 33, 34, 35, 36, 37, 38, 39, 40, 41, 42, 43, 44, 45, 46, 47, 48, 49, 2, 3, 4, 5, 6, 7, 8, 9, 10, 11, 12, 13, 14, 15, 16, 17, 18, 19, 20, 21, 22, 23, 24, 25, 26, 4, 5, 6, 7, 8, 9, 10, 11, 12, 13, 14, 15, 16, 7, 8, 9, 10, 11, 12])\n",
      "dict_values([0, 1, 2, 3, 4, 5, 6, 7, 8, 9, 10, 11, 12, 13, 14, 15, 16, 17, 18, 19, 20, 21, 22, 23, 24, 25, 26, 27, 28, 29, 30, 31, 32, 33, 34, 35, 36, 37, 38, 39, 40, 41, 42, 43, 44, 45, 46, 47, 48, 49, 2, 3, 4, 5, 6, 7, 8, 9, 10, 11, 12, 13, 14, 15, 16, 17, 18, 19, 20, 21, 22, 23, 24, 25, 26, 4, 5, 6, 7, 8, 9, 10, 11, 12, 13, 14, 15, 16, 7, 8, 9, 10, 11, 12, 9])\n",
      "dict_values([0, 1, 2, 3, 4, 5, 6, 7, 8, 9, 10, 11, 12, 13, 14, 15, 16, 17, 18, 19, 20, 21, 22, 23, 24, 25, 26, 27, 28, 29, 30, 31, 32, 33, 34, 35, 36, 37, 38, 39, 40, 41, 42, 43, 44, 45, 46, 47, 48, 49, 2, 3, 4, 5, 6, 7, 8, 9, 10, 11, 12, 13, 14, 15, 16, 17, 18, 19, 20, 21, 22, 23, 24, 25, 26, 4, 5, 6, 7, 8, 9, 10, 11, 12, 13, 14, 15, 16, 7, 8, 9, 10, 11, 12, 9, 10])\n",
      "dict_values([0, 1, 2, 3, 4, 5, 6, 7, 8, 9, 10, 11, 12, 13, 14, 15, 16, 17, 18, 19, 20, 21, 22, 23, 24, 25, 26, 27, 28, 29, 30, 31, 32, 33, 34, 35, 36, 37, 38, 39, 40, 41, 42, 43, 44, 45, 46, 47, 48, 49, 2, 3, 4, 5, 6, 7, 8, 9, 10, 11, 12, 13, 14, 15, 16, 17, 18, 19, 20, 21, 22, 23, 24, 25, 26, 4, 5, 6, 7, 8, 9, 10, 11, 12, 13, 14, 15, 16, 7, 8, 9, 10, 11, 12, 9, 10, 11])\n",
      "dict_values([0, 1, 2, 3, 4, 5, 6, 7, 8, 9, 10, 11, 12, 13, 14, 15, 16, 17, 18, 19, 20, 21, 22, 23, 24, 25, 26, 27, 28, 29, 30, 31, 32, 33, 34, 35, 36, 37, 38, 39, 40, 41, 42, 43, 44, 45, 46, 47, 48, 49, 2, 3, 4, 5, 6, 7, 8, 9, 10, 11, 12, 13, 14, 15, 16, 17, 18, 19, 20, 21, 22, 23, 24, 25, 26, 4, 5, 6, 7, 8, 9, 10, 11, 12, 13, 14, 15, 16, 7, 8, 9, 10, 11, 12, 9, 10, 11, 11])\n",
      "dict_values([0, 1, 2, 3, 4, 5, 6, 7, 8, 9, 10, 11, 12, 13, 14, 15, 16, 17, 18, 19, 20, 21, 22, 23, 24, 25, 26, 27, 28, 29, 30, 31, 32, 33, 34, 35, 36, 37, 38, 39, 40, 41, 42, 43, 44, 45, 46, 47, 48, 49, 2, 3, 4, 5, 6, 7, 8, 9, 10, 11, 12, 13, 14, 15, 16, 17, 18, 19, 20, 21, 22, 23, 24, 25, 26, 4, 5, 6, 7, 8, 9, 10, 11, 12, 13, 14, 15, 16, 7, 8, 9, 10, 11, 12, 9, 10, 11, 11, 12])\n",
      "dict_values([0, 1, 2, 3, 4, 5, 6, 7, 8, 9, 10, 11, 12, 13, 14, 15, 16, 17, 18, 19, 20, 21, 22, 23, 24, 25, 26, 27, 28, 29, 30, 31, 32, 33, 34, 35, 36, 37, 38, 39, 40, 41, 42, 43, 44, 45, 46, 47, 48, 49, 2, 3, 4, 5, 6, 7, 8, 9, 10, 11, 12, 13, 14, 15, 16, 17, 18, 19, 20, 21, 22, 23, 24, 25, 26, 4, 5, 6, 7, 8, 9, 10, 11, 12, 13, 14, 15, 16, 7, 8, 9, 10, 11, 12, 9, 10, 11, 11, 12, 13])\n",
      "\n",
      "2.9 ms ± 0 ns per loop (mean ± std. dev. of 1 run, 1 loop each)\n"
     ]
    }
   ],
   "source": [
    "%%timeit -r 1 -n 1\n",
    "dynamicProgrammingWithFutureCosts(problem)\n",
    "print()"
   ]
  },
  {
   "cell_type": "markdown",
   "id": "2ac50222-6790-4bca-add9-5bc88192ba98",
   "metadata": {},
   "source": [
    "---"
   ]
  },
  {
   "cell_type": "markdown",
   "id": "57a0909b-b34a-4488-8631-d824b23863e0",
   "metadata": {},
   "source": [
    "El algoritmo de programación dinámica que discutimos realiza una búsqueda con backtracking pero utiliza la técnica llamada *memoización* (no confundir con memorización, *memoización* viene de **memorandum** no de **memorizar**, aunque ambas palabras vienen de la misma raíz latina).\n",
    "\n",
    "Una limitación de esta técnica es que la gráfica de estados debe ser acíclica. Si tiene ciclos, entonces el cálculo de un costo futuro para $s$ depende de un $s'$ que a su vez puede depender de $s$ que es precisamente el que queremos calcular.\n",
    "\n",
    "En el ejemplo que discutimos el costo depende de la cuadra actual. Sin embargo, podemos modelar problemas en donde el estado incluya más información.\n",
    "\n",
    "Un **estado** es un resumen de todas las acciones pasadas que sean suficientes para elegir acciones futuras de manera óptima. El truco es decidir qué información del pasado podemos olvidar. Entre más olvidemos, menos estados y más eficiente nuestro programa.\n",
    "\n",
    "Veamos un problema:\n",
    "\n",
    "\n",
    "---\n",
    "\n",
    "*Encuentra el camino de costo mínimo de la ciudad $1$ a la ciudad $n$, únicamente moviéndose hacia adelante. Cuesta $c_{ij}$ ir de $i$ a $j$.*\n",
    "\n",
    "*Adicionalmente, no podemos visitar tres ciudades impares al hilo.*\n",
    "\n",
    "Si solo nos interesara la ciudad actual, tendríamos un árbol de búsqueda como el siguiente y podríamos aplicar los algoritmos que ya discutimos igualito:\n",
    "\n",
    "<center>\n",
    "    <img src=\"./img18.png\" />\n",
    "</center>\n",
    "\n",
    "En particular, utilizando programación dinámica, podemos resolver el problema construyendo la gráfica de dependencias para el cálculo del costo futuro y hacer que nuestro programa *vuele*.\n",
    "\n",
    "<center>\n",
    "    <img src=\"./img19.png\" />\n",
    "</center>\n",
    "\n",
    "Sin embargo, para satisfacer la restricción adicional esto no es suficiente. Cuando nos intentemos mover a la siguiente ciudad, no podremos saber si honramos la restricción porque no sabemos de qué ciudad venimos. Entonces podemos incorporar la ciudad previa a nuestro estado, cada estado sería entonces una pareja de ciudades.\n",
    "\n",
    "Esto haría que nuestro algoritmo funcionara, sin embargo la cantidad de estados en nuestro problema ahora es $n^2$.\n",
    "\n",
    "Podemos mejorar esto recordando únicamente la paridad de la ciudad previamente visitada, por lo que los estados serían parejas cuyo primer elemento es una etiqueta *odd* o *even* y cuyo segundo elemento es la ciudad actual.\n",
    "\n",
    "¡¡Esto nos reduce la cantidad de estados de $n^2$ a $2n$!!\n",
    "\n",
    "<center>\n",
    "    <img src=\"./img20.png\" />\n",
    "</center>\n",
    "\n",
    "Consideremos que estamos en el estado $(\\mathrm{odd},3)$.\n",
    "\n",
    "A pesar de que venimos de una ciudad impar, podemos movernos al estado $(\\mathrm{odd},4)$ ya que $4$ es par y por lo tanto la paridad de la secuencia de estados sería *impar*, *impar*, *par*.\n",
    "Sin embargo, no podemos movernos al estado $(\\mathrm{odd},7)$ ya que $7$ es impar y por lo tanto la paridad de la secuencia de estados sería *impar*, *impar*, *impar*.\n",
    "\n",
    "---\n",
    "\n",
    "Hasta este punto nos hemos expandido nuestro repertorio de algoritmos para resolver una amplia variedad de problemas de manera eficiente.\n",
    "\n",
    "Pero sé lo que están pensando... La programación dinámica funciona solo cuando la gráfica de estados es acíclica... ¿Qué pasa si tengo un problema donde la gráfica tiene ciclos?"
   ]
  },
  {
   "cell_type": "markdown",
   "id": "2d522619-dea5-4655-8724-71528a6d5740",
   "metadata": {},
   "source": [
    "## Búsqueda de costo uniforme\n",
    "\n",
    "Quizá algunos de ustedes ya tienen preparada una respuesta para la pregunta anterior.\n",
    "\n",
    "> \"Es prácticamente imposible enseñar buena programación a estudiantes que han tenido una exposición previa a BASIC: como programadores potenciales, están mentalmente mutilados más allá de toda esperanza de regeneración\"\n",
    "\n",
    "> \"El uso de COBOL paraliza la mente; por lo tanto, su enseñanza debe considerarse un delito penal\"\n",
    "\n",
    "> \"Las pruebas de programas se pueden usar para mostrar la presencia de errores, pero nunca para mostrar su ausencia\"\n",
    "\n",
    "> \"La pregunta de si una computadora puede pensar no es más interesante que la pregunta de si un submarino puede nadar\"\n",
    "\n",
    "> \"El progreso solo es posible si nos entrenamos para pensar en programas sin pensar en ellos como piezas de código ejecutable\"\n",
    "\n",
    "> \"Si en física hay algo que no entiendes, siempre puedes esconderte detrás de las profundidades desconocidas de la naturaleza. Siempre puedes culpar a Dios. Tú no lo hiciste tan complejo. Pero si tu programa no funciona, hay nadie detrás de quien esconderse. No puedes esconderte detrás de una naturaleza obstinada. Si no funciona, la regaste\"\n",
    "\n",
    "> \"No me culpes por el hecho de que la programación competente, ya que la veo como una posibilidad intelectual, será demasiado difícil para el 'programador promedio'. No debes caer en la trampa de rechazar una técnica quirúrgica porque está más allá del capacidades del barbero en su tienda a la vuelta de la esquina\"\n",
    "\n",
    "> \"La programación orientada a objetos es una idea excepcionalmente mala que solo podría haberse originado en California\"\n",
    "\n",
    "> \"El esfuerzo de usar máquinas para imitar la mente humana siempre me ha parecido bastante tonto. Prefiero usarlas para imitar algo mejor\"\n",
    "\n",
    "<center>\n",
    "    <img src=\"./img21.jpg\" />\n",
    "</center>\n",
    "\n",
    "El algoritmo de Dijkstra para encontrar rutas más cortas. Cuando nos refiramos a la *búsqueda de costo uniforme* (UCS) puedes pensar en Dijkstra.\n",
    "\n",
    "Pero primero, veamos un video de cómo se comporta este algoritmo:"
   ]
  },
  {
   "cell_type": "code",
   "execution_count": 62,
   "id": "17ca18ad-0221-4588-8a09-b813b33a7676",
   "metadata": {
    "tags": []
   },
   "outputs": [
    {
     "data": {
      "text/html": [
       "<video src=\"./vid00.mp4\" controls style=\"width: 100%\"  >\n",
       "      Your browser does not support the <code>video</code> element.\n",
       "    </video>"
      ],
      "text/plain": [
       "<IPython.core.display.Video object>"
      ]
     },
     "execution_count": 62,
     "metadata": {},
     "output_type": "execute_result"
    }
   ],
   "source": [
    "from IPython.display import Video\n",
    "Video(\"./vid00.mp4\", html_attributes='controls style=\"width: 100%\"')"
   ]
  },
  {
   "cell_type": "markdown",
   "id": "7b23ed26-dd56-45c2-8545-e78ae1a5e522",
   "metadata": {},
   "source": [
    "Recordemos que utilizamos programación dinámica para caluclar el costo futuro de cada estado $s$, es decir, el costo del camino de costo mínimo de $s$ a un estado final.\n",
    "\n",
    "Podemos definir otro costo análogo $\\mathrm{PastCost}(s)$, el costo del camino de mínimo costo del estado inicial hasta $s$. Si en lugar de conocer el sucesor $\\mathrm{Succ}(s,a)$ tuviéramos los predecesores (pensemos en invertir la dirección de las aristas en la gráfica), entonces podríamos definir un programa dinámico para calcular el $\\mathrm{PastCost}(s)$ de todo estado $s$.\n",
    "\n",
    "<center>\n",
    "    <img src=\"./img22.png\" />\n",
    "</center>\n",
    "\n",
    "La idea central de la UCS es ordenar de manera creciente los estados de acuerdo a su costo pasado. Para poder hacer esto de manera eficiente, debemos incorporar la suposición de que todos los costos de las acciones son no-negativos (pueden ser cero). Si tuviéramos costos negativos, podríamos inscribirnos al curso de análisis de redes con Irene y aprender sobre el algoritmo de [Bellman-Ford](https://es.wikipedia.org/wiki/Algoritmo_de_Bellman-Ford).\n",
    "\n",
    "La idea detrás de la UCS es partir el conjunto de estados en tres conjuntos disjuntos:\n",
    "- Los estados explorados (comienza vacío)\n",
    "- Los estados en la frontera (comienza con el estado inicial)\n",
    "- Los estados no explorados (comienza con todos los estados excepto el inicial)\n",
    "\n",
    "A lo largo del algoritmo, vamos a mover estados del conjunto de no explorados a la frontera y de la frontera a los explorados.\n",
    "\n",
    "Conforme ampliamos nuestra exploración, se satisfacen las siguientes invariantes:\n",
    "- Los tres conjuntos son disjuntos y su unión es todos los estados\n",
    "- Conocemos los caminos de costo mínimo de todos los estados en el conjunto de explorados.\n",
    "\n",
    "Veamos un ejemplo concreto de cómo funciona el algoritmo.\n",
    "\n",
    "<center>\n",
    "    <img src=\"./img23.png\" style=\"width: 100%\" />\n",
    "</center>"
   ]
  },
  {
   "cell_type": "markdown",
   "id": "b6cb188f",
   "metadata": {},
   "source": [
    "**Para la tarea:** ¿Por qué el algoritmo de Dijkstra no puede trabajar con pesos negativos? ¿Qué pasa si le sumamos a todos los pesos el peso mínimo de la gráfica? Presenta una gráfica dirigida ponderada en donde esta \"solución\" no funciona."
   ]
  },
  {
   "cell_type": "markdown",
   "id": "e0764fb1",
   "metadata": {},
   "source": [
    "**Solucion**\n",
    "\n",
    "La razón por la cual no puede trabajar con pesos negativos es porque el algoritmo se basa en la idea de que, en cada iteración, el nodo más cercano al origen es elegido y su distancia es actualizada. Si hay pesos negativos en el grafo, el algoritmo podría encontrar un camino más corto a través de un ciclo negativo y entrar en un bucle infinito, ya que siempre habría un camino más corto al seguir el ciclo.\n",
    "\n",
    "Si le sumamos a todos los pesos el peso mínimo de la gráfica, entonces ya no habría pesos negativos en la gráfica y el algoritmo de Dijkstra podría funcionar correctamente. Sin embargo, esta solución no siempre es óptima y puede afectar la precisión de los resultados, especialmente en gráficos grandes o complejos. Además, esta técnica solo funciona si el peso mínimo de la gráfica es no negativo. Si la gráfica contiene pesos negativos, entonces esta técnica no resolvería el problema y se necesitaría una solución diferente."
   ]
  },
  {
   "cell_type": "markdown",
   "id": "570ff428-4dc6-4241-b312-baa317c7abd4",
   "metadata": {},
   "source": [
    "## Algoritmo $A^*$"
   ]
  },
  {
   "cell_type": "code",
   "execution_count": null,
   "id": "c87e9828",
   "metadata": {},
   "outputs": [],
   "source": []
  },
  {
   "cell_type": "code",
   "execution_count": null,
   "id": "2a46c4e2",
   "metadata": {},
   "outputs": [],
   "source": []
  }
 ],
 "metadata": {
  "kernelspec": {
   "display_name": "Python 3 (ipykernel)",
   "language": "python",
   "name": "python3"
  },
  "language_info": {
   "codemirror_mode": {
    "name": "ipython",
    "version": 3
   },
   "file_extension": ".py",
   "mimetype": "text/x-python",
   "name": "python",
   "nbconvert_exporter": "python",
   "pygments_lexer": "ipython3",
   "version": "3.10.9"
  }
 },
 "nbformat": 4,
 "nbformat_minor": 5
}
