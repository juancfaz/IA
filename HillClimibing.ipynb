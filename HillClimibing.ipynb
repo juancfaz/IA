{
  "cells": [
    {
      "cell_type": "code",
      "execution_count": 14,
      "metadata": {
        "id": "M20YecVgSbGA"
      },
      "outputs": [],
      "source": [
        "from random import randint\n",
        "from termcolor import colored"
      ]
    },
    {
      "cell_type": "code",
      "execution_count": 15,
      "metadata": {
        "id": "ioqOmy03SfFt"
      },
      "outputs": [],
      "source": [
        "def rand_board():\n",
        "    '''\n",
        "    Genera un tablero aleatorio. Es una lista con 8 numeros random,\n",
        "                                 donde los los indices son las columnas\n",
        "                                 de un tablero de ajedrez (Ej. A B C D ... H)\n",
        "                                 y el valor de cada indice es la fila, juntas\n",
        "                                 hacen las coordenadas de cada reina en el tablero.\n",
        "    Ejemplo.\n",
        "    tablero = [0, 2, 7, 0, 6, 4, 7, 6]\n",
        "    R_0 = 0,0\n",
        "    R_1 = 2,1\n",
        "    ...\n",
        "    R_7 = 6,7\n",
        "\n",
        "    return tablero\n",
        "    '''\n",
        "    board = [randint(0, 7) for _ in range(8)]\n",
        "    return board"
      ]
    },
    {
      "cell_type": "code",
      "execution_count": 16,
      "metadata": {
        "id": "9R0LaIULSjvy"
      },
      "outputs": [],
      "source": [
        "def attacks(board):\n",
        "    '''\n",
        "    Calcula los ataques entre pares reinas. Comparamos la reina actual con\n",
        "                                            la siguiente con el siguiente criterio:\n",
        "\n",
        "                                            ¿Están en la misma fila? El valor de cada elemento de la lista es el numero de fila,\n",
        "                                                                     por lo tanto si tienen el mismo valor su indice quiere decir\n",
        "                                                                     que se encuentran en el mismo renglon, sumamos 1 a los ataques totales.\n",
        "\n",
        "                                            ¿Están en la misma diagonal? Si la diferencia entre sus columnas es igual a la diferencia\n",
        "                                                                         de las filas, entonces están en la misma diagonal.\n",
        "    Ejemplo.\n",
        "    \n",
        "    tablero = [6,0,3,1,6,2,0,3]\n",
        "    tablero_copia = [6,0,3,1,6,2,0,3]\n",
        "\n",
        "    tablero[0] = 6, tablero_copia[1] = 0 (6 == 0) or (abs(6-0) == abs(1 - 0))? No se cumple ninguna condicion, por lo tanto no se atacan.\n",
        "    tablero[0] = 6, tablero_copia[4] = 6 (6 == 6) or (abs(6-6) == abs(4 - 0))? Se cumple la primera condicion, por lo tanto se atacan. ataques += 1.\n",
        "    tablero[4] = 6, tablero_copia[7] = 3 (6 == 3) or (abs(6-3) == abs(7 - 4))? Se cumple la segunda condicion, por lo tanto se atacan. ataques += 1.\n",
        "\n",
        "    return ataques\n",
        "    '''\n",
        "    a = 0\n",
        "    for i in range(8):\n",
        "       for j in range(i + 1, 8):\n",
        "          r1 = board[i]\n",
        "          r2 = board[j]\n",
        "          if (r1 == r2) or (abs(r2-r1) == abs(j - i)):\n",
        "             a += 1\n",
        "    return a"
      ]
    },
    {
      "cell_type": "code",
      "execution_count": 17,
      "metadata": {
        "id": "5AXeKnvDU9RL"
      },
      "outputs": [],
      "source": [
        "def sum_one(board, pos):\n",
        "   '''\n",
        "   Recibe un tablero, y una posición. Esto para causar una variante en el tablero.\n",
        "   \n",
        "   Ejemplo.\n",
        "\n",
        "   tablero = [0,1,2,3,4,5,6,7]\n",
        "   pos = 0\n",
        "   nuevo_tablero = sum_one(tablero,pos) = [1,1,2,3,4,5,6,7]\n",
        "   return nuevo_tablero\n",
        "\n",
        "   tablero1 = [0,1,2,3,4,5,6,7]\n",
        "   pos1 = 7\n",
        "   nuevo_tablero1 = sum_one(tablero1,pos1) = [0,1,2,3,4,5,6,0]\n",
        "   return nuevo_tablero1\n",
        "   '''\n",
        "   new_board = list(board)\n",
        "   for i in range(8):\n",
        "      if i == pos:\n",
        "         new_board[i] = (new_board[i] + 1)%8\n",
        "   return new_board\n",
        "\n",
        "def min_one(board, pos):\n",
        "   '''\n",
        "   Recibe un tablero, y una posición. Esto para causar una variante en el tablero.\n",
        "   \n",
        "   Ejemplo.\n",
        "\n",
        "   tablero = [0,1,2,3,4,5,6,7]\n",
        "   pos = 0\n",
        "   nuevo_tablero = min_one(tablero,pos) = [7,1,2,3,4,5,6,7]\n",
        "   return nuevo_tablero\n",
        "\n",
        "   tablero1 = [0,1,2,3,4,5,6,7]\n",
        "   pos1 = 7\n",
        "   nuevo_tablero1 = min_one(tablero1,pos1) = [0,1,2,3,4,5,6,6]\n",
        "   return nuevo_tablero1\n",
        "   '''\n",
        "   new_board = list(board)\n",
        "   for i in range(8):\n",
        "      if i == pos:\n",
        "         new_board[i] = (new_board[i] - 1)%8\n",
        "   return new_board"
      ]
    },
    {
      "cell_type": "code",
      "execution_count": 18,
      "metadata": {
        "id": "XOUZDrlFVQDB"
      },
      "outputs": [],
      "source": [
        "def generate_neighbors(board):\n",
        "   '''\n",
        "   Genera una lista de vecinos cercanos al tablero. Como los movimientos de las reinas fueron restringidos al convertirse\n",
        "                                                    las columnas en los indices, solo las moveremos de arriba a abajo, por\n",
        "                                                    lo que se tomara una reina aleatoria y nos devuelve quienes son sus vecinos.\n",
        "   Ejemplo.\n",
        "   tablero = [0,1,2,3,4,5,6,7]\n",
        "   vecinos = []\n",
        "   pos = 0\n",
        "   vecinos = [sum_one(tablero, pos), min_one(board, pos)] = [[1, 1, 2, 3, 4, 5, 6, 7], [7, 1, 2, 3, 4, 5, 6, 7]]\n",
        "\n",
        "   return vecinos\n",
        "   '''\n",
        "   neighbors = list()\n",
        "   pos = randint(0, 7)\n",
        "   neighbors = [sum_one(board, pos), min_one(board, pos)]\n",
        "   return neighbors\n",
        "\n",
        "def minimum(neighbors):\n",
        "  '''\n",
        "  Devuelve el vecino con menor número de ataques.\n",
        "\n",
        "  Ejemplo.\n",
        "\n",
        "  a1 = attacks([3, 7, 0, 4, 6, 1, 5, 2]) = 0 ataques\n",
        "  a2 = attacks([5, 1, 0, 0, 6, 4, 7, 2]) = 3 ataques\n",
        "\n",
        "  0 <= 3 ? True\n",
        "\n",
        "  return [3, 7, 0, 4, 6, 1, 5, 2]\n",
        "  '''\n",
        "  return neighbors[0] if attacks(neighbors[0]) <= attacks(neighbors[1]) else neighbors[1]"
      ]
    },
    {
      "cell_type": "code",
      "execution_count": 51,
      "metadata": {
        "id": "2bOiClRtS7BO"
      },
      "outputs": [],
      "source": [
        "def hill_climbing(cantidad):\n",
        "  '''\n",
        "  Aplica el algoritmo de descenso de colinas. Recibe un número de iteraciones por parametro.\n",
        "\n",
        "  Ejemplo.\n",
        "\n",
        "  Genera un tablero inicial, que llamamos 'el mejor tablero hasta ahora' el cual se inicializa aleatoriamente con rand_board().\n",
        "  Entramos en un ciclo finito, y generamos los vecinos de 'el mejor tablero' y solo nos quedamos con el que tuvo un menor número de ataques.\n",
        "\n",
        "  Si el número de ataques de la nueva generación es menor que el número de ataques del tablero actual, entonces diremos que la nueva generación\n",
        "  es ahora el mejor tablero. Tambien se pregunta si el número de ataques de el mejor tablero es igual a 0 para saber si nuestro problema se resolvió.\n",
        "  \n",
        "  Ejemplo.\n",
        "\n",
        "  mejor_tablero = [0, 1, 2, 5, 4, 5, 6, 7] = 23 ataques.\n",
        "  vecinos = [[0, 1, 2, 5, 5, 5, 6, 7], [0, 1, 2, 5, 3, 5, 6, 7]] = 18 ataques y 16 ataques.\n",
        "  mejor_vecino = [0, 1, 2, 5, 3, 5, 6, 7] = 16 ataques.\n",
        "\n",
        "  16 < 23? True: mejor_tablero = [0, 1, 2, 5, 3, 5, 6, 7]\n",
        "\n",
        "  return mejor_tablero\n",
        "  '''\n",
        "  best_board = rand_board()\n",
        "  for _ in range(cantidad):\n",
        "    neighbors = generate_neighbors(best_board)\n",
        "    best_neighbor = minimum(neighbors)\n",
        "    if attacks(best_neighbor) < attacks(best_board):\n",
        "      best_board = best_neighbor\n",
        "    if attacks(best_board) == 0:\n",
        "      return best_board\n",
        "  return best_board"
      ]
    },
    {
      "cell_type": "code",
      "execution_count": 20,
      "metadata": {
        "id": "o7R7vgE0sjxr"
      },
      "outputs": [],
      "source": [
        "def show(board):\n",
        "    '''\n",
        "    Imprime el tablero.\n",
        "    '''\n",
        "    print(\"   A  B  C  D  E  F  G  H\")\n",
        "    print(\"  -------------------------\")\n",
        "    for row in range(8):\n",
        "        rows = str(row) + \"|\"\n",
        "        for column in range(8):\n",
        "            if board[column]==row:\n",
        "                rows += \" \"+colored(\"■\", \"magenta\")+\" \"\n",
        "            else:\n",
        "                if (row+column)%2==0:\n",
        "                    rows += \" \"+colored(\" \",\"black\")+\" \"\n",
        "                else:   \n",
        "                    rows += \" \"+colored(\" \",\"white\")+\" \"\n",
        "        rows += \"|\" + str(row)\n",
        "        print(rows)\n",
        "    print(\"  -------------------------\")\n",
        "    print(\"   A  B  C  D  E  F  G  H\")"
      ]
    },
    {
      "cell_type": "code",
      "execution_count": 55,
      "metadata": {
        "colab": {
          "base_uri": "https://localhost:8080/"
        },
        "id": "b0UoknBgcTJk",
        "outputId": "043c8ce5-d911-4bce-80f6-f3de67bb9af5"
      },
      "outputs": [
        {
          "output_type": "stream",
          "name": "stdout",
          "text": [
            "Tablero inicial:  [3, 0, 4, 3, 7, 6, 2, 3]\n",
            "Ataques:  7\n",
            "\n",
            "Solución:  [7, 3, 0, 2, 5, 1, 6, 4]\n",
            "Ataques:  0\n",
            "Tiempo:  8269  unidades\n",
            "   A  B  C  D  E  F  G  H\n",
            "  -------------------------\n",
            "0|       ■                |0\n",
            "1|                ■       |1\n",
            "2|          ■             |2\n",
            "3|    ■                   |3\n",
            "4|                      ■ |4\n",
            "5|             ■          |5\n",
            "6|                   ■    |6\n",
            "7| ■                      |7\n",
            "  -------------------------\n",
            "   A  B  C  D  E  F  G  H\n"
          ]
        }
      ],
      "source": [
        "ls = hill_climbing(1)\n",
        "print(\"Tablero inicial: \", ls)\n",
        "print(\"Ataques: \", attacks(ls))\n",
        "print()\n",
        "time = 0\n",
        "max_time = 50000\n",
        "while attacks(ls) != 0:\n",
        "   ls = hill_climbing(1)\n",
        "   if time == max_time:\n",
        "     break\n",
        "   time += 1\n",
        "print(\"Solución: \", ls)\n",
        "print(\"Ataques: \", attacks(ls))\n",
        "print(\"Tiempo: \", time, \" unidades\")\n",
        "show(ls)"
      ]
    }
  ],
  "metadata": {
    "colab": {
      "provenance": []
    },
    "gpuClass": "standard",
    "kernelspec": {
      "display_name": "Python 3",
      "name": "python3"
    },
    "language_info": {
      "name": "python"
    }
  },
  "nbformat": 4,
  "nbformat_minor": 0
}