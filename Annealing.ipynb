{
  "cells": [
    {
      "cell_type": "code",
      "execution_count": 56,
      "metadata": {
        "id": "M20YecVgSbGA"
      },
      "outputs": [],
      "source": [
        "from random import randint\n",
        "import math, random\n",
        "from termcolor import colored"
      ]
    },
    {
      "cell_type": "code",
      "execution_count": null,
      "metadata": {
        "id": "ioqOmy03SfFt"
      },
      "outputs": [],
      "source": [
        "def rand_board():\n",
        "    '''\n",
        "    Genera un tablero aleatorio. Es una lista con 8 numeros random,\n",
        "                                 donde los los indices son las columnas\n",
        "                                 de un tablero de ajedrez (Ej. A B C D ... H)\n",
        "                                 y el valor de cada indice es la fila, juntas\n",
        "                                 hacen las coordenadas de cada reina en el tablero.\n",
        "    Ejemplo.\n",
        "    tablero = [0, 2, 7, 0, 6, 4, 7, 6]\n",
        "    R_0 = 0,0\n",
        "    R_1 = 2,1\n",
        "    ...\n",
        "    R_7 = 6,7\n",
        "\n",
        "    return tablero\n",
        "    '''\n",
        "    board = [randint(0, 7) for _ in range(8)]\n",
        "    return board"
      ]
    },
    {
      "cell_type": "code",
      "execution_count": null,
      "metadata": {
        "id": "9R0LaIULSjvy"
      },
      "outputs": [],
      "source": [
        "def attacks(board):\n",
        "    '''\n",
        "    Calcula los ataques entre pares reinas. Comparamos la reina actual con\n",
        "                                            la siguiente con el siguiente criterio:\n",
        "\n",
        "                                            ¿Están en la misma fila? El valor de cada elemento de la lista es el numero de fila,\n",
        "                                                                     por lo tanto si tienen el mismo valor su indice quiere decir\n",
        "                                                                     que se encuentran en el mismo renglon, sumamos 1 a los ataques totales.\n",
        "\n",
        "                                            ¿Están en la misma diagonal? Si la diferencia entre sus columnas es igual a la diferencia\n",
        "                                                                         de las filas, entonces están en la misma diagonal.\n",
        "    Ejemplo.\n",
        "    \n",
        "    tablero = [6,0,3,1,6,2,0,3]\n",
        "    tablero_copia = [6,0,3,1,6,2,0,3]\n",
        "\n",
        "    tablero[0] = 6, tablero_copia[1] = 0 (6 == 0) or (abs(6-0) == abs(1 - 0))? No se cumple ninguna condicion, por lo tanto no se atacan.\n",
        "    tablero[0] = 6, tablero_copia[4] = 6 (6 == 6) or (abs(6-6) == abs(4 - 0))? Se cumple la primera condicion, por lo tanto se atacan. ataques += 1.\n",
        "    tablero[4] = 6, tablero_copia[7] = 3 (6 == 3) or (abs(6-3) == abs(7 - 4))? Se cumple la segunda condicion, por lo tanto se atacan. ataques += 1.\n",
        "\n",
        "    return ataques\n",
        "    '''\n",
        "    a = 0\n",
        "    for i in range(8):\n",
        "       for j in range(i + 1, 8):\n",
        "          r1 = board[i]\n",
        "          r2 = board[j]\n",
        "          if (r1 == r2) or (abs(r2-r1) == abs(j - i)):\n",
        "             a += 1\n",
        "    return a"
      ]
    },
    {
      "cell_type": "code",
      "execution_count": null,
      "metadata": {
        "id": "o7R7vgE0sjxr"
      },
      "outputs": [],
      "source": [
        "def show(board):\n",
        "    '''\n",
        "    Imprime el tablero.\n",
        "    '''\n",
        "    print(\"   A  B  C  D  E  F  G  H\")\n",
        "    print(\"  -------------------------\")\n",
        "    for row in range(8):\n",
        "        rows = str(row) + \"|\"\n",
        "        for column in range(8):\n",
        "            if board[column]==row:\n",
        "                rows += \" \"+colored(\"■\", \"magenta\")+\" \"\n",
        "            else:\n",
        "                if (row+column)%2==0:\n",
        "                    rows += \" \"+colored(\" \",\"black\")+\" \"\n",
        "                else:   \n",
        "                    rows += \" \"+colored(\" \",\"white\")+\" \"\n",
        "        rows += \"|\" + str(row)\n",
        "        print(rows)\n",
        "    print(\"  -------------------------\")\n",
        "    print(\"   A  B  C  D  E  F  G  H\")"
      ]
    },
    {
      "cell_type": "code",
      "source": [
        "def rand (cantidad, min, max):\n",
        "  numeros = []\n",
        "  while len (numeros) < cantidad:\n",
        "    numero = randint (min, max)\n",
        "    if not numero in numeros:\n",
        "      numeros.append (numero)\n",
        "  return numeros\n",
        "\n",
        "def random_successor(board):\n",
        "  new_board = list(board)\n",
        "  rnd = rand(2, 0, 7)\n",
        "  for i in range(8):\n",
        "    if i == rnd[0]:\n",
        "        new_board[i] = rnd[1]\n",
        "  return new_board"
      ],
      "metadata": {
        "id": "9R0FAEPIoIDl"
      },
      "execution_count": 57,
      "outputs": []
    },
    {
      "cell_type": "code",
      "source": [
        "def simulated_annealing(initial_state, energy_function, temperature, cooling_rate):\n",
        "    current_state = initial_state\n",
        "    current_energy = attacks(current_state)\n",
        "    T = temperature\n",
        "    \n",
        "    while T > 1e-10:\n",
        "        new_state = random_successor(current_state)\n",
        "        new_energy = attacks(new_state)\n",
        "        delta_E = new_energy - current_energy\n",
        "        if delta_E < 0 or random.uniform(0, 1) < math.exp(-delta_E / T):\n",
        "            current_state = new_state\n",
        "            current_energy = new_energy\n",
        "        T *= cooling_rate\n",
        "    return current_state"
      ],
      "metadata": {
        "id": "0vBfHDXnoL7l"
      },
      "execution_count": 59,
      "outputs": []
    },
    {
      "cell_type": "code",
      "source": [
        "ls = [1,2,3,4,5,6,7,8]\n",
        "print(ls)\n",
        "print(attacks(ls))\n",
        "print()\n",
        "a = 0\n",
        "ls = simulated_annealing(ls, attacks(ls), 1000, 0.999)\n",
        "a += 1\n",
        "print(ls)\n",
        "print(attacks(ls))"
      ],
      "metadata": {
        "colab": {
          "base_uri": "https://localhost:8080/"
        },
        "id": "6PdaxXPloPWR",
        "outputId": "1df06781-8109-46cd-9ed3-a270004507b6"
      },
      "execution_count": 65,
      "outputs": [
        {
          "output_type": "stream",
          "name": "stdout",
          "text": [
            "[1, 2, 3, 4, 5, 6, 7, 8]\n",
            "28\n",
            "\n",
            "[4, 0, 7, 5, 2, 6, 1, 3]\n",
            "0\n"
          ]
        }
      ]
    }
  ],
  "metadata": {
    "colab": {
      "provenance": []
    },
    "gpuClass": "standard",
    "kernelspec": {
      "display_name": "Python 3",
      "name": "python3"
    },
    "language_info": {
      "name": "python"
    }
  },
  "nbformat": 4,
  "nbformat_minor": 0
}